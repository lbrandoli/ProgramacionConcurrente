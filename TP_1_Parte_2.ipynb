{
  "nbformat": 4,
  "nbformat_minor": 0,
  "metadata": {
    "colab": {
      "provenance": [],
      "collapsed_sections": [
        "J2_7StWinxud",
        "YzKXm2lAZfzf"
      ],
      "include_colab_link": true
    },
    "kernelspec": {
      "name": "python3",
      "display_name": "Python 3"
    },
    "language_info": {
      "name": "python"
    }
  },
  "cells": [
    {
      "cell_type": "markdown",
      "metadata": {
        "id": "view-in-github",
        "colab_type": "text"
      },
      "source": [
        "<a href=\"https://colab.research.google.com/github/lbrandoli/ProgramacionConcurrente/blob/main/TP_1_Parte_2.ipynb\" target=\"_parent\"><img src=\"https://colab.research.google.com/assets/colab-badge.svg\" alt=\"Open In Colab\"/></a>"
      ]
    },
    {
      "cell_type": "markdown",
      "source": [
        "# Python"
      ],
      "metadata": {
        "id": "J2_7StWinxud"
      }
    },
    {
      "cell_type": "code",
      "source": [
        "%%writefile sumaDeMatrices.py\n",
        "import time\n",
        "import threading\n",
        "import random\n",
        "\n",
        "\n",
        "def suma_secuencial(M1, M2, N):\n",
        "    RS = [[0 for _ in range(N)] for _ in range(N)]\n",
        "    for i in range(N):\n",
        "        for j in range(N):\n",
        "            RS[i][j] = M1[i][j] + M2[i][j]\n",
        "    return RS\n",
        "\n",
        "def suma_concurrente(M1, M2, N):\n",
        "    hilos = []\n",
        "    RC = [[0 for _ in range(N)] for _ in range(N)]\n",
        "    for i in range(N):\n",
        "        hilo = threading.Thread(target=suma_fila, args=(i, M1, M2, RC, N,))\n",
        "        hilos.append(hilo)\n",
        "        hilo.start()\n",
        "    for hilo in hilos:\n",
        "        hilo.join()\n",
        "    return RC\n",
        "\n",
        "def suma_fila(i, M1, M2, RC, N):\n",
        "    for j in range(N):\n",
        "        RC[i][j] = M1[i][j] + M2[i][j]\n",
        "\n",
        "def comparar_matrices(M1, M2, N):\n",
        "    for i in range(N):\n",
        "        for j in range(N):\n",
        "            if (M1[i][j] != M2[i][j]):\n",
        "                return False\n",
        "    return True\n",
        "\n",
        "\n",
        "def main():\n",
        "    N = 5\n",
        "    A = [[random.randint(-32, 32) for _ in range(N)] for _ in range(N)]\n",
        "    B = [[random.randint(-32, 32) for _ in range(N)] for _ in range(N)]\n",
        "\n",
        "    CS = suma_secuencial(A, B, N)\n",
        "    CC = suma_concurrente(A, B, N)\n",
        "\n",
        "    print(\"Matriz A:\")\n",
        "    for fila in A:\n",
        "        print(fila)\n",
        "    print(\"Matriz B:\")\n",
        "    for fila in B:\n",
        "        print(fila)\n",
        "    print(\"Matriz resultado de la suma secuencial:\")\n",
        "    for fila in CS:\n",
        "        print(fila)\n",
        "    print(\"Matriz resultado de la suma concurrente:\")\n",
        "    for fila in CC:\n",
        "        print(fila)\n",
        "\n",
        "    if (comparar_matrices(CS, CC, N)):\n",
        "        print(\"\\nAl comparar las matrices se determinó que son iguales\")\n",
        "    else:\n",
        "        print(\"\\nAl comparar las matrices se determinó que son diferentes\")\n",
        "\n",
        "\n",
        "if __name__ == \"__main__\":\n",
        "    main()"
      ],
      "metadata": {
        "colab": {
          "base_uri": "https://localhost:8080/"
        },
        "id": "u8JpG66On6AV",
        "outputId": "9eeda9e5-7c0d-4a39-d3d0-1f95570aca1d"
      },
      "execution_count": null,
      "outputs": [
        {
          "output_type": "stream",
          "name": "stdout",
          "text": [
            "Writing sumaDeMatrices.py\n"
          ]
        }
      ]
    },
    {
      "cell_type": "code",
      "source": [
        "!nohup python3 -u sumaDeMatrices.py 1>resultado_suma_py 2>/dev/null &"
      ],
      "metadata": {
        "id": "Yiz--kfD2MgX"
      },
      "execution_count": null,
      "outputs": []
    },
    {
      "cell_type": "code",
      "source": [
        "!cat resultado_suma_py"
      ],
      "metadata": {
        "colab": {
          "base_uri": "https://localhost:8080/"
        },
        "id": "vVZ4F15f2Mdw",
        "outputId": "52564436-9464-476d-9196-a66a4d97207c"
      },
      "execution_count": null,
      "outputs": [
        {
          "output_type": "stream",
          "name": "stdout",
          "text": [
            "Matriz A:\n",
            "[19, -22, 23, -19, 12]\n",
            "[21, 12, 27, 19, -12]\n",
            "[30, 16, 10, -23, -7]\n",
            "[-21, 21, 18, 6, -17]\n",
            "[-5, 17, 1, 8, -17]\n",
            "Matriz B:\n",
            "[-4, -1, -14, 12, 8]\n",
            "[-22, -10, 8, 3, 25]\n",
            "[-27, 22, 5, 14, -18]\n",
            "[-10, 4, -19, -7, 27]\n",
            "[-27, 25, 11, -31, 0]\n",
            "Matriz resultado de la suma secuencial:\n",
            "[15, -23, 9, -7, 20]\n",
            "[-1, 2, 35, 22, 13]\n",
            "[3, 38, 15, -9, -25]\n",
            "[-31, 25, -1, -1, 10]\n",
            "[-32, 42, 12, -23, -17]\n",
            "Matriz resultado de la suma concurrente:\n",
            "[15, -23, 9, -7, 20]\n",
            "[-1, 2, 35, 22, 13]\n",
            "[3, 38, 15, -9, -25]\n",
            "[-31, 25, -1, -1, 10]\n",
            "[-32, 42, 12, -23, -17]\n",
            "\n",
            "Al comparar las matrices se determinó que son iguales\n"
          ]
        }
      ]
    },
    {
      "cell_type": "markdown",
      "source": [
        "# **C++**"
      ],
      "metadata": {
        "id": "YzKXm2lAZfzf"
      }
    },
    {
      "cell_type": "markdown",
      "source": [
        "El programa realiza la suma de dos matrices de 5x5 de dos formas distintas, primero realiza la suma en forma secuencial y luego utilizando 5 hilos."
      ],
      "metadata": {
        "id": "jEIMiZQ6aAOW"
      }
    },
    {
      "cell_type": "code",
      "source": [
        "%%writefile suma_matriz.cpp\n",
        "#include <iostream>\n",
        "#include <cstdlib>\n",
        "#include <ctime>\n",
        "#include <thread>\n",
        "\n",
        "void cargarMatriz(int matriz[5][5])\n",
        "{\n",
        "  for(int i=0;i<5;i++)\n",
        "  {\n",
        "    for(int j=0;j<5;j++)\n",
        "    {\n",
        "      int numero_random=(std::rand()%65)-32;\n",
        "      matriz[i][j]=numero_random;\n",
        "    }\n",
        "  }\n",
        "}\n",
        "\n",
        "void mostrarMatriz(int matriz[5][5])\n",
        "{\n",
        "  for(int i=0;i<5;i++)\n",
        "  {\n",
        "    for(int j=0;j<5;j++)\n",
        "    {\n",
        "      std::cout.width(5);\n",
        "      std::cout<< matriz[i][j]<<\" \";\n",
        "    }\n",
        "    std::cout<<std::endl;\n",
        "  }\n",
        "}\n",
        "\n",
        "void sumarMatrices(int matriz[5][5],int matriz2[5][5],int resultado[5][5])\n",
        "{\n",
        "  for(int i=0;i<5;i++)\n",
        "  {\n",
        "    for(int j=0;j<5;j++)\n",
        "    {\n",
        "      resultado[i][j]=matriz[i][j]+matriz2[i][j];\n",
        "    }\n",
        "  }\n",
        "}\n",
        "\n",
        "void sumarFila(int fila,int matriz[5][5],int matriz2[5][5],int resultado[5][5])\n",
        "{\n",
        "  for(int j=0;j<5;j++)\n",
        "  {\n",
        "    resultado[fila][j]=matriz[fila][j]+matriz2[fila][j];\n",
        "  }\n",
        "}\n",
        "\n",
        "int main()\n",
        "{\n",
        "  std::srand(std::time(0));\n",
        "\n",
        "  int A[5][5],B[5][5],CS[5][5],CC[5][5];\n",
        "  std::cout<<std::endl;\n",
        "\n",
        "  cargarMatriz(A);\n",
        "  std::cout<<\"MATRIZ A\"<<std::endl;\n",
        "  mostrarMatriz(A);\n",
        "  std::cout<<std::endl;\n",
        "\n",
        "  cargarMatriz(B);\n",
        "  std::cout<<\"MATRIZ B\"<<std::endl;\n",
        "  mostrarMatriz(B);\n",
        "  std::cout<<std::endl;\n",
        "\n",
        "  std::cout<<\"SUMA SECUENCIAL\"<<std::endl;\n",
        "  sumarMatrices(A,B,CS);\n",
        "  mostrarMatriz(CS);\n",
        "  std::cout<<std::endl;\n",
        "\n",
        "  std::cout<<\"SUMA CONCURRENTE\"<<std::endl;\n",
        "  std::thread hilos[5];\n",
        "  for(int i=0;i<5;i++)\n",
        "  {\n",
        "    hilos[i]=std::thread(sumarFila,i,A,B,CC);\n",
        "  }\n",
        "  for(int i=0;i<5;i++)\n",
        "  {\n",
        "    hilos[i].join();\n",
        "  }\n",
        "  mostrarMatriz(CC);\n",
        "  std::cout<<std::endl;\n",
        "\n",
        "  return 0;\n",
        "}"
      ],
      "metadata": {
        "colab": {
          "base_uri": "https://localhost:8080/"
        },
        "id": "XHW6pQCXajTd",
        "outputId": "78aaedbb-7c81-4b4e-d199-0811f7ae05bc"
      },
      "execution_count": null,
      "outputs": [
        {
          "output_type": "stream",
          "name": "stdout",
          "text": [
            "Writing suma_matriz.cpp\n"
          ]
        }
      ]
    },
    {
      "cell_type": "markdown",
      "source": [
        "1- Se compila el codigo C++ y se genera un binario."
      ],
      "metadata": {
        "id": "xtjVW67ZcNii"
      }
    },
    {
      "cell_type": "code",
      "source": [
        "!g++ suma_matriz.cpp -lpthread -o suma_matriz.bin"
      ],
      "metadata": {
        "id": "ePS-4ylnch8o"
      },
      "execution_count": null,
      "outputs": []
    },
    {
      "cell_type": "markdown",
      "source": [
        "2-Enviamos la salida del programa al archivo \"matrices_suma\""
      ],
      "metadata": {
        "id": "WhS6DyKqcxXM"
      }
    },
    {
      "cell_type": "code",
      "source": [
        "!nohup ./suma_matriz.bin 5 1> matrices_suma 2> /dev/null &"
      ],
      "metadata": {
        "id": "qZzLhjKQdBkJ"
      },
      "execution_count": null,
      "outputs": []
    },
    {
      "cell_type": "markdown",
      "source": [
        "3-Vemos lo que hay en el archivo \"matrices_suma\""
      ],
      "metadata": {
        "id": "rGC4RCOYdO8o"
      }
    },
    {
      "cell_type": "code",
      "source": [
        "!cat matrices_suma"
      ],
      "metadata": {
        "colab": {
          "base_uri": "https://localhost:8080/"
        },
        "id": "gr9zGwsrdYEL",
        "outputId": "9e89c8dc-5747-4310-e891-f93ad23292f1"
      },
      "execution_count": null,
      "outputs": [
        {
          "output_type": "stream",
          "name": "stdout",
          "text": [
            "\n",
            "MATRIZ A\n",
            "   11     6   -12    19    18 \n",
            "   31   -23    27    26    19 \n",
            "  -14    16    -5    -2    13 \n",
            "   11   -28   -22   -17    -4 \n",
            "    6   -10   -32    31   -13 \n",
            "\n",
            "MATRIZ B\n",
            "  -30    12     8    -7    -5 \n",
            "   32   -26   -30   -10    25 \n",
            "   20   -12   -28    14   -17 \n",
            "   23   -32   -32   -12     0 \n",
            "   15   -32     4    25   -14 \n",
            "\n",
            "SUMA SECUENCIAL\n",
            "  -19    18    -4    12    13 \n",
            "   63   -49    -3    16    44 \n",
            "    6     4   -33    12    -4 \n",
            "   34   -60   -54   -29    -4 \n",
            "   21   -42   -28    56   -27 \n",
            "\n",
            "SUMA CONCURRENTE\n",
            "  -19    18    -4    12    13 \n",
            "   63   -49    -3    16    44 \n",
            "    6     4   -33    12    -4 \n",
            "   34   -60   -54   -29    -4 \n",
            "   21   -42   -28    56   -27 \n",
            "\n"
          ]
        }
      ]
    },
    {
      "cell_type": "markdown",
      "source": [
        "Conclusion: las matrices resultantes son iguales."
      ],
      "metadata": {
        "id": "NSzl0qMBdvut"
      }
    },
    {
      "cell_type": "markdown",
      "source": [
        "#**JAVA**"
      ],
      "metadata": {
        "id": "jqczp_1dqTdK"
      }
    },
    {
      "cell_type": "code",
      "source": [
        "%%writefile SumaDeMatricesJava.java\n",
        "import java.util.ArrayList;\n",
        "import java.util.List;\n",
        "import java.util.Random;\n",
        "\n",
        "public class SumaDeMatricesJava\n",
        "{\n",
        "\n",
        "    private static int FILS = 5;\n",
        "    private static int COLS = 5;\n",
        "    public static int maxNumero = 32;\n",
        "    public static int minNumero = -32;\n",
        "\n",
        "    public int[][] matrizA;\n",
        "    public int[][] matrizB;\n",
        "    public int[][] matrizCS;\n",
        "    public int[][] matrizCC;\n",
        "\n",
        "    public SumaDeMatricesJava()\n",
        "    {\n",
        "        matrizA = new int[FILS][COLS];\n",
        "        matrizB = new int[FILS][COLS];\n",
        "        matrizCS = new int[FILS][COLS];\n",
        "        matrizCC = new int[FILS][COLS];\n",
        "    }\n",
        "\n",
        "    public void inicializarMatrices()\n",
        "    {\n",
        "        Random random = new Random();\n",
        "        int cantElementos = FILS * COLS;\n",
        "        for (int i = 0; i < cantElementos; i++)\n",
        "        {\n",
        "            int numero = random.nextInt(maxNumero - minNumero + 1) + minNumero;\n",
        "            matrizA[i / FILS][i % COLS] = numero;\n",
        "            matrizB[i / FILS][i % COLS] = numero;\n",
        "        }\n",
        "    }\n",
        "\n",
        "    public void sumaMatrizSecuencial()\n",
        "    {\n",
        "        for (int i = 0; i < matrizA.length; i++)\n",
        "        {\n",
        "            for (int j = 0; j < matrizA[0].length; j++)\n",
        "            {\n",
        "                matrizCS[i][j] = matrizA[i][j] + matrizB[i][j];\n",
        "            }\n",
        "        }\n",
        "    }\n",
        "\n",
        "    public void sumaMatrizConcurrente()\n",
        "    {\n",
        "        List<SumaFilaThread> threads = new ArrayList<SumaFilaThread>();\n",
        "        for (int i = 0; i < SumaDeMatricesJava.FILS; i++)\n",
        "        {\n",
        "            threads.add(new SumaFilaThread(i));\n",
        "        }\n",
        "        for (SumaFilaThread sumaFilaThread : threads)\n",
        "        {\n",
        "            sumaFilaThread.start();\n",
        "        }\n",
        "        for (SumaFilaThread sumaFilaThread : threads)\n",
        "        {\n",
        "            try\n",
        "            {\n",
        "                sumaFilaThread.join();\n",
        "            }\n",
        "            catch (InterruptedException e)\n",
        "            {\n",
        "                e.printStackTrace();\n",
        "            }\n",
        "        }\n",
        "    }\n",
        "\n",
        "    private static void mostrarMatriz(int[][] matriz, String nombre)\n",
        "    {\n",
        "        System.out.println(\"\\nmatriz \" + nombre);\n",
        "        for (int i = 0; i < matriz.length; i++)\n",
        "        {\n",
        "            System.out.print(\"[ \");\n",
        "            for (int j = 0; j < matriz[0].length; j++)\n",
        "            {\n",
        "              System.out.printf(\"%3d \", matriz[i][j]);\n",
        "            }\n",
        "        System.out.println(\" ]\");\n",
        "        }\n",
        "    }\n",
        "\n",
        "\n",
        "    public void compararMatrices()\n",
        "    {\n",
        "      for(int i=0; i < SumaDeMatricesJava.FILS; i++)\n",
        "        for(int j=0; j < SumaDeMatricesJava.COLS; j++)\n",
        "        {\n",
        "          if(matrizCS[i][j] != matrizCC[i][j])\n",
        "          {\n",
        "            System.out.println(\"\\nlas matrices no son iguales en la posicion: (\" + i + \"; \" + j + \")\" );\n",
        "            return;\n",
        "          }\n",
        "        }\n",
        "      System.out.println(\"\\nlas matrices son iguales.\");\n",
        "    }\n",
        "\n",
        "    public static void main(String[] args)\n",
        "    {\n",
        "        SumaDeMatricesJava sumaDeMatrices = new SumaDeMatricesJava();\n",
        "        sumaDeMatrices.inicializarMatrices();\n",
        "        sumaDeMatrices.sumaMatrizSecuencial();\n",
        "        sumaDeMatrices.sumaMatrizConcurrente();\n",
        "        mostrarMatriz(sumaDeMatrices.matrizA, \"A\");\n",
        "        mostrarMatriz(sumaDeMatrices.matrizB, \"B\");\n",
        "        mostrarMatriz(sumaDeMatrices.matrizCS, \"CS\");\n",
        "        mostrarMatriz(sumaDeMatrices.matrizCC, \"CC\");\n",
        "        sumaDeMatrices.compararMatrices();\n",
        "    }\n",
        "\n",
        "    private class SumaFilaThread extends Thread\n",
        "    {\n",
        "        private int fila;\n",
        "        public SumaFilaThread(int fila)\n",
        "        {\n",
        "            this.fila = fila;\n",
        "        }\n",
        "\n",
        "        @Override\n",
        "        public void run()\n",
        "        {\n",
        "            for (int i = 0; i < matrizA[0].length; i++)\n",
        "            {\n",
        "                matrizCC[this.fila][i] = matrizA[this.fila][i] + matrizB[this.fila][i];\n",
        "            }\n",
        "        }\n",
        "    }\n",
        "}"
      ],
      "metadata": {
        "colab": {
          "base_uri": "https://localhost:8080/"
        },
        "id": "KtYIer-YqjMb",
        "outputId": "b462ceac-79fb-42e4-b2d1-36a463aeda30"
      },
      "execution_count": null,
      "outputs": [
        {
          "output_type": "stream",
          "name": "stdout",
          "text": [
            "Writing SumaDeMatricesJava.java\n"
          ]
        }
      ]
    },
    {
      "cell_type": "code",
      "source": [
        "!java SumaDeMatricesJava.java"
      ],
      "metadata": {
        "colab": {
          "base_uri": "https://localhost:8080/"
        },
        "id": "1mXeflMBsHF7",
        "outputId": "89fbc25d-d23e-46ba-f4e5-86de6b0e43e5"
      },
      "execution_count": null,
      "outputs": [
        {
          "output_type": "stream",
          "name": "stdout",
          "text": [
            "\n",
            "matriz A\n",
            "[  15 -18 -12  -9  11  ]\n",
            "[   5 -18   6 -27 -19  ]\n",
            "[ -23   9 -15  22 -17  ]\n",
            "[ -17  28  19  16  12  ]\n",
            "[  28 -12  -6  -5 -29  ]\n",
            "\n",
            "matriz B\n",
            "[  15 -18 -12  -9  11  ]\n",
            "[   5 -18   6 -27 -19  ]\n",
            "[ -23   9 -15  22 -17  ]\n",
            "[ -17  28  19  16  12  ]\n",
            "[  28 -12  -6  -5 -29  ]\n",
            "\n",
            "matriz CS\n",
            "[  30 -36 -24 -18  22  ]\n",
            "[  10 -36  12 -54 -38  ]\n",
            "[ -46  18 -30  44 -34  ]\n",
            "[ -34  56  38  32  24  ]\n",
            "[  56 -24 -12 -10 -58  ]\n",
            "\n",
            "matriz CC\n",
            "[  30 -36 -24 -18  22  ]\n",
            "[  10 -36  12 -54 -38  ]\n",
            "[ -46  18 -30  44 -34  ]\n",
            "[ -34  56  38  32  24  ]\n",
            "[  56 -24 -12 -10 -58  ]\n",
            "\n",
            "las matrices son iguales.\n"
          ]
        }
      ]
    }
  ]
}