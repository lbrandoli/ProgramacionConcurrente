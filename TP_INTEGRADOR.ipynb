{
  "nbformat": 4,
  "nbformat_minor": 0,
  "metadata": {
    "colab": {
      "provenance": [],
      "include_colab_link": true
    },
    "kernelspec": {
      "name": "python3",
      "display_name": "Python 3"
    },
    "language_info": {
      "name": "python"
    }
  },
  "cells": [
    {
      "cell_type": "markdown",
      "metadata": {
        "id": "view-in-github",
        "colab_type": "text"
      },
      "source": [
        "<a href=\"https://colab.research.google.com/github/lbrandoli/ProgramacionConcurrente/blob/main/TP_INTEGRADOR.ipynb\" target=\"_parent\"><img src=\"https://colab.research.google.com/assets/colab-badge.svg\" alt=\"Open In Colab\"/></a>"
      ]
    },
    {
      "cell_type": "markdown",
      "source": [
        "SERVIDOR"
      ],
      "metadata": {
        "id": "MrksH8vAMk8I"
      }
    },
    {
      "cell_type": "code",
      "source": [
        "import threading\n",
        "import socket\n",
        "from Crypto.Cipher import AES\n",
        "from Crypto.Random import get_random_bytes\n",
        "\n",
        "# Clave de cifrado\n",
        "key = b'clave_secreta'\n",
        "\n",
        "# Función para cifrar un mensaje\n",
        "def encrypt(message):\n",
        "    cipher = AES.new(key, AES.MODE_EAX)\n",
        "    nonce = cipher.nonce\n",
        "    ciphertext, tag = cipher.encrypt_and_digest(message.encode('utf-8'))\n",
        "    return nonce + ciphertext + tag\n",
        "\n",
        "# Función para descifrar un mensaje\n",
        "def decrypt(ciphertext):\n",
        "    nonce = ciphertext[:16]\n",
        "    tag = ciphertext[-16:]\n",
        "    ciphertext = ciphertext[16:-16]\n",
        "    cipher = AES.new(key, AES.MODE_EAX, nonce=nonce)\n",
        "    plaintext = cipher.decrypt(ciphertext)\n",
        "    try:\n",
        "        cipher.verify(tag)\n",
        "        return plaintext.decode('utf-8')\n",
        "    except:\n",
        "        return None\n",
        "\n",
        "# Función para manejar la conexión con un cliente\n",
        "def handle_client(conn, addr):\n",
        "    print(f'Conexión establecida con {addr}')\n",
        "    while True:\n",
        "        # Recibir mensaje cifrado del cliente\n",
        "        ciphertext = conn.recv(1024)\n",
        "        if not ciphertext:\n",
        "            break\n",
        "        # Descifrar mensaje\n",
        "        message = decrypt(ciphertext)\n",
        "        if message:\n",
        "            print(f'Mensaje recibido de {addr}: {message}')\n",
        "            # Cifrar respuesta\n",
        "            response = encrypt(f'Tu mensaje \"{message}\" ha sido recibido.')\n",
        "            # Enviar respuesta cifrada al cliente\n",
        "            conn.sendall(response)\n",
        "    print(f'Conexión cerrada con {addr}')\n",
        "    conn.close()\n",
        "\n",
        "# Función para manejar las conexiones entrantes\n",
        "def handle_connections():\n",
        "    # Crear socket\n",
        "    s = socket.socket(socket.AF_INET, socket.SOCK_STREAM)\n",
        "    s.bind(('localhost', 12345))\n",
        "    s.listen()\n",
        "    print('Servidor iniciado en localhost:1234')\n",
        "    while True:\n",
        "        # Aceptar conexión entrante\n",
        "        conn, addr = s.accept()\n",
        "        # Crear hilo para manejar la conexión\n",
        "        t = threading.Thread(target=handle_client, args=(conn, addr))\n",
        "        t.start()\n",
        "\n",
        "# Iniciar servidor\n",
        "handle_connections()"
      ],
      "metadata": {
        "id": "F4LUdBUKMnkY"
      },
      "execution_count": null,
      "outputs": []
    },
    {
      "cell_type": "markdown",
      "source": [
        "CLIENTE"
      ],
      "metadata": {
        "id": "-3E2Un2FMu4y"
      }
    },
    {
      "cell_type": "code",
      "source": [
        "import socket\n",
        "from Crypto.Cipher import AES\n",
        "from Crypto.Random import get_random_bytes\n",
        "\n",
        "# Generar una nueva clave de cifrado AES de 16 bytes\n",
        "#key = get_random_bytes(16)\n",
        "\n",
        "# Clave de cifrado\n",
        "key = b'clave_secreta'\n",
        "\n",
        "# Función para cifrar un mensaje\n",
        "def encrypt(message):\n",
        "    cipher = AES.new(key, AES.MODE_EAX)\n",
        "    nonce = cipher.nonce\n",
        "    ciphertext, tag = cipher.encrypt_and_digest(message.encode('utf-8'))\n",
        "    return nonce + ciphertext + tag\n",
        "\n",
        "# Función para descifrar un mensaje\n",
        "def decrypt(ciphertext):\n",
        "    nonce = ciphertext[:16]\n",
        "    tag = ciphertext[-16:]\n",
        "    ciphertext = ciphertext[16:-16]\n",
        "    cipher = AES.new(key, AES.MODE_EAX, nonce=nonce)\n",
        "    plaintext = cipher.decrypt(ciphertext)\n",
        "    try:\n",
        "        cipher.verify(tag)\n",
        "        return plaintext.decode('utf-8')\n",
        "    except:\n",
        "        return None\n",
        "\n",
        "# Crear socket\n",
        "s = socket.socket(socket.AF_INET, socket.SOCK_STREAM)\n",
        "s.connect(('localhost', 12345))\n",
        "\n",
        "while True:\n",
        "    # Leer mensaje desde la consola\n",
        "    message = input('Mensaje: ')\n",
        "    # Cifrar mensaje\n",
        "    ciphertext = encrypt(message)\n",
        "    # Enviar mensaje cifrado al servidor\n",
        "    s.sendall(ciphertext)\n",
        "    # Recibir respuesta cifrada del servidor\n",
        "    ciphertext = s.recv(1024)\n",
        "    # Descifrar respuesta\n",
        "    response = decrypt(ciphertext)\n",
        "    if response:\n",
        "        print(f'Respuesta: {response}')\n",
        "    else:\n",
        "        print('Error al descifrar la respuesta')\n",
        "        break\n",
        "\n",
        "# Cerrar conexión\n",
        "s.close()"
      ],
      "metadata": {
        "id": "iwDaEWXoMxc_"
      },
      "execution_count": null,
      "outputs": []
    },
    {
      "cell_type": "markdown",
      "source": [
        "MAIN"
      ],
      "metadata": {
        "id": "mN_C9ig_rqWH"
      }
    },
    {
      "cell_type": "code",
      "source": [
        "import subprocess\n",
        "import time\n",
        "\n",
        "def run():\n",
        "    # Iniciar el servidor como un proceso padre\n",
        "    servidor_proceso = subprocess.Popen([\"python\", \"servidor.py\"])\n",
        "\n",
        "    # Esperar un breve momento antes de iniciar los clientes\n",
        "    time.sleep(2)\n",
        "\n",
        "    # Iniciar dos clientes como procesos hijos\n",
        "    cliente_proceso_1 = subprocess.Popen([\"python\", \"cliente.py\"])\n",
        "    cliente_proceso_2 = subprocess.Popen([\"python\", \"cliente.py\"])\n",
        "\n",
        "    # Esperar a que los procesos hijos terminen\n",
        "    cliente_proceso_1.wait()\n",
        "    cliente_proceso_2.wait()\n",
        "\n",
        "    # Terminar el servidor después de que los clientes hayan terminado\n",
        "    servidor_proceso.terminate()\n",
        "\n",
        "\n",
        "if __name__ == \"__main__\":\n",
        "    run()"
      ],
      "metadata": {
        "id": "He6Qh04Mrx4u"
      },
      "execution_count": null,
      "outputs": []
    }
  ]
}