{
  "nbformat": 4,
  "nbformat_minor": 0,
  "metadata": {
    "colab": {
      "provenance": [],
      "collapsed_sections": [
        "s4il8Wggr_NI",
        "BnQAL6oKsJDB",
        "bL8kyFvIu2wD",
        "PDFdWYSJ0Bjg",
        "M_ApBJ2PT53N"
      ],
      "include_colab_link": true
    },
    "kernelspec": {
      "name": "python3",
      "display_name": "Python 3"
    },
    "language_info": {
      "name": "python"
    }
  },
  "cells": [
    {
      "cell_type": "markdown",
      "metadata": {
        "id": "view-in-github",
        "colab_type": "text"
      },
      "source": [
        "<a href=\"https://colab.research.google.com/github/lbrandoli/ProgramacionConcurrente/blob/main/tp2/openMP/TP_2_openMP.ipynb\" target=\"_parent\"><img src=\"https://colab.research.google.com/assets/colab-badge.svg\" alt=\"Open In Colab\"/></a>"
      ]
    },
    {
      "cell_type": "markdown",
      "source": [
        "# 1.1. Ejercicio 1 - Hola Mundo estilo Programación Concurrente"
      ],
      "metadata": {
        "id": "s4il8Wggr_NI"
      }
    },
    {
      "cell_type": "markdown",
      "source": [
        "## a)Identifique los 3 componentes de openMP en el ejercicio 1."
      ],
      "metadata": {
        "id": "BnQAL6oKsJDB"
      }
    },
    {
      "cell_type": "markdown",
      "source": [
        "1. Directivas al compilar: son las instrucciones que se utilizan para indicar al compilador que seccion de codigo debe ser paralelizada, en este caso, se utiliza \"#pragma omp parallel\" para indicar que la region de codigo que sigue debe ser ejecutada en paralelo.\n",
        "\n",
        "2. Rutinas de tiempo de ejecucion: son las funciones que se utilizan para controlar el comportamiento de los hilos en tiempo de ejecucion. En el codigo se utiiza las funciones \"omp_get_thread_num()\", \"omp_get_num_threads()\", \"omp_get_num_procs()\" y \"omp_set_num_threads()\" para obtener informacion sobre los hilos y procesadores disponibles.\n",
        "\n",
        "3. Variables de entorno: son las variables que se utilizan para controlar el comportamiento del sistema en tiempo de ejecucion, en el codigo proporcionado, vemos \"OMP_NUM_THREADS\" para establecer el numero maximo de hilos que se pueden utilizar."
      ],
      "metadata": {
        "id": "LHg5tneVsV1-"
      }
    },
    {
      "cell_type": "markdown",
      "source": [
        "## b)Realice pruebas modificando la cantidad de hilos (1,3,7). Que conclusiones pudo determinar?."
      ],
      "metadata": {
        "id": "bL8kyFvIu2wD"
      }
    },
    {
      "cell_type": "markdown",
      "source": [
        "Si se utiliza un solo hilo, el programa se va a ejecutar de forma secuencial y no habra paralelismo.\n",
        "Si se utilizan varios hilos el programas se ejecutara en paralelo y disminuira el tiempo de ejecucion. Sin embargo, si se utilizan muchos hilos, el tiempo de ejecucion podria aumentar debido a la sobrecarga asociada con la creacion y administracion de hilos.\n",
        "Lo mas optimo es utilizar un numero de hilos similar al numero de nucleos disponibles en el procesador."
      ],
      "metadata": {
        "id": "b1eOgSlgvIyH"
      }
    },
    {
      "cell_type": "markdown",
      "source": [
        "## c)¿Cual es la diferencia entre las formas de asignacion static y dynamic en la clausula schedule?¿Que sucede si utiliza dynamic en el codigo?"
      ],
      "metadata": {
        "id": "PDFdWYSJ0Bjg"
      }
    },
    {
      "cell_type": "markdown",
      "source": [
        "La asignacion **static** significa que las iteraciones se asignan a los hilos de manera estatica, es decir, se decide al principio que hilo hara que iteraciones. Por otro lado, la asignacion **dynamic** significa que cada hilo trabaja en un bloque de iteraciones y luego toma el siguiente bloque que no ha sido trabajado por ningun hilo.\n",
        "Si se utiliza la asignacion **dynamic** en el codigo proporcionado, cada hilo trabajara en un bloque de iteraciones y luego tomara el siguiente bloque que no haya sido trabajado por ningun hilo. Esto puede llevar a un mejor equlibrio de carga si las iteraciones tiene diferentes tiempos de ejecucion, pero tambien puede aumentar la sobrecarga debido a la comunicacion entre los hilos.\n",
        "\n"
      ],
      "metadata": {
        "id": "xx7sSDb80g-9"
      }
    },
    {
      "cell_type": "markdown",
      "source": [
        "## d)En el for:¿Que sucede con el valor de j, si se parametriza como lastprivate?"
      ],
      "metadata": {
        "id": "hi71kB664Jdr"
      }
    },
    {
      "cell_type": "markdown",
      "source": [
        "La clausula **lastprivate** se utiliza para asegurar que la variable privada de un bucle tenga el valor de la ultima iteracion despues de que se complete el bucle. Si se utiliza la clausula **lastprivate** en el codigo proporcionado, el valor final de j despues del bucle sera el valor de j en la ultima iteracion del bucle."
      ],
      "metadata": {
        "id": "yfQaP4QW-spu"
      }
    },
    {
      "cell_type": "markdown",
      "source": [],
      "metadata": {
        "id": "qQOOX38S_T2x"
      }
    },
    {
      "cell_type": "markdown",
      "source": [
        "# 1.2. Ejercicio 2 - Codigo faltante:"
      ],
      "metadata": {
        "id": "M_ApBJ2PT53N"
      }
    },
    {
      "cell_type": "code",
      "source": [
        "%%writefile total_ventas.cpp\n",
        "\n",
        "#include <omp.h>\n",
        "#include <stdio.h>\n",
        "#include <stdlib.h>\n",
        "#include <omp.h>\n",
        "\n",
        "#define SEED 4\n",
        "#define LIMIT_INF 0\n",
        "#define LIMIT_SUP 100\n",
        "#define DAYS 15\n",
        "\n",
        "int main(int argc, char *argv[])\n",
        "{\n",
        "    if (argv[1])\n",
        "    {\n",
        "        int count_suc = atoi(argv[1]);\n",
        "        int ventas_x_sucursal[count_suc][DAYS];\n",
        "        int total = 0, sum;\n",
        "\n",
        "        srand(SEED);\n",
        "        for (int i = 0; i < count_suc; i++)\n",
        "        {\n",
        "            for (int j = 0; j < DAYS; j++)\n",
        "            {\n",
        "                ventas_x_sucursal[i][j] = (rand() % (LIMIT_SUP - LIMIT_INF + 1)) + LIMIT_INF;\n",
        "            }\n",
        "        }\n",
        "\n",
        "        for (int i = 0; i < count_suc; i++)\n",
        "        {\n",
        "            for (int j = 0; j < DAYS; j++)\n",
        "            {\n",
        "                printf(\"%d \\t\", ventas_x_sucursal[i][j]);\n",
        "            }\n",
        "            printf(\"\\n\");\n",
        "        }\n",
        "\n",
        "        for (int i = 0; i < count_suc; i++)\n",
        "        {\n",
        "            #pragma omp parallel for reduction(+ : sum) // lastprivate(total)\n",
        "            for (int j = 0; j < DAYS; j++)\n",
        "            {\n",
        "                #pragma omp atomic\n",
        "                total += ventas_x_sucursal[i][j];\n",
        "            }\n",
        "        }\n",
        "\n",
        "        printf(\"%d\\n\", total);\n",
        "    }\n",
        "    else\n",
        "    {\n",
        "        printf(\"Por favor, ingrese la cantidad de sucursales\");\n",
        "    }\n",
        "}"
      ],
      "metadata": {
        "id": "jh3-pt_x2HY2",
        "colab": {
          "base_uri": "https://localhost:8080/"
        },
        "outputId": "7374baed-d26e-4b9d-ec31-04c07b7ca914"
      },
      "execution_count": null,
      "outputs": [
        {
          "output_type": "stream",
          "name": "stdout",
          "text": [
            "Overwriting total_ventas.cpp\n"
          ]
        }
      ]
    },
    {
      "cell_type": "code",
      "source": [
        "!g++ -o total_ventas -fopenmp total_ventas.cpp"
      ],
      "metadata": {
        "id": "2z1nV8Xt8JYR"
      },
      "execution_count": null,
      "outputs": []
    },
    {
      "cell_type": "code",
      "source": [
        "!./total_ventas 5"
      ],
      "metadata": {
        "id": "Q7NkoZdd8O56",
        "colab": {
          "base_uri": "https://localhost:8080/"
        },
        "outputId": "d58b2681-146a-41b7-8c3d-64eed9a78ab2"
      },
      "execution_count": null,
      "outputs": [
        {
          "output_type": "stream",
          "name": "stdout",
          "text": [
            "78 \t30 \t7 \t32 \t71 \t10 \t85 \t11 \t85 \t26 \t11 \t96 \t70 \t80 \t21 \t\n",
            "52 \t85 \t65 \t62 \t20 \t59 \t97 \t83 \t82 \t47 \t78 \t98 \t67 \t2 \t39 \t\n",
            "47 \t46 \t70 \t20 \t78 \t6 \t31 \t62 \t18 \t15 \t54 \t96 \t10 \t23 \t76 \t\n",
            "98 \t42 \t26 \t62 \t3 \t46 \t20 \t100 \t95 \t69 \t12 \t73 \t32 \t79 \t75 \t\n",
            "72 \t93 \t87 \t7 \t12 \t65 \t13 \t9 \t93 \t98 \t24 \t47 \t94 \t1 \t36 \t\n",
            "3884\n"
          ]
        }
      ]
    },
    {
      "cell_type": "markdown",
      "source": [
        "# 1.3. Ejercicio 3 - Axpy"
      ],
      "metadata": {
        "id": "_fJWQAB_4NQI"
      }
    },
    {
      "cell_type": "markdown",
      "source": [
        "**b) Repita la prueba (a), con ciclos 10, 100. ¿Cuál fue la diferencia?**\n"
      ],
      "metadata": {
        "id": "VOn3cGyn4tCs"
      }
    },
    {
      "cell_type": "markdown",
      "source": [
        "Cuando tengo muchos datos a procesar, aumentar la cantidad de ciclos implica una mejora en las métricas. En caso contrario, cuando tengo pocos datos a procesar, aumentar la cantidad de ciclos no genera una mejora en las métricas. Esto es debido a que estoy realizando la operación de suma vectorial N cantidad de veces (cantidad de ciclos). En conclusión, al procesar pocos datos y aumentar el número de ciclos, no hay una mejora sobre las métricas debido que el paralelismo se aplica en la función axpy() y no en el ciclo for más externo, el cual es el que se ve afectado por la variable \"ciclos\".\n",
        "\n",
        "\n",
        "\n",
        "\n"
      ],
      "metadata": {
        "id": "kwsjGZmo46Ei"
      }
    },
    {
      "cell_type": "markdown",
      "source": [
        "**c) ¿Cómo varía el SpeedUp a medida que aumenta o disminuye la cantidad de hilos?**"
      ],
      "metadata": {
        "id": "D3etXps-58c4"
      }
    },
    {
      "cell_type": "markdown",
      "source": [
        "En nuestro contexto de ejecución tenemos solamente dos núcleos. Por lo tanto, a la hora de implementar una mayor cantidad de hilos se genera un overhead producto de los cambios de contexto entre hilos. En conclusión, para una misma cantidad de elementos y ciclos, el SpeedUp empeora (disminuye) con mayor número de hilos que núcleos de procesamiento, debido al overhead generado por los cambios de contexto."
      ],
      "metadata": {
        "id": "TlwU5Z5c6B5y"
      }
    },
    {
      "cell_type": "markdown",
      "source": [
        "**d) ¿Qué sucede con la eficiencia a medida que aumentan la cantidad_N? ¿Por qué no llega al valor ideal?**"
      ],
      "metadata": {
        "id": "UdM1lTHD6sOr"
      }
    },
    {
      "cell_type": "markdown",
      "source": [
        "A medida que aumentan los elementos, se genera una mejora de la eficiencia debido que los algoritmos paralelos están diseñados para resolver la problemática del procesamiento de grandes volúmenes de datos. Por lo tanto, con pocos datos no se va a observar una mejora en comparación de la programación secuencial.\n",
        "\n",
        "No se llega al valor ideal de eficiencia debido que la creación y administración de hilos genera un overhead adicional al sistema, el cual no se contempla en la programación secuencial ya que es propio de la programación parelela. También puede ser por la sincronización o comunicación que tiene que existir entre los núcleos para acceder a la memoria.\n"
      ],
      "metadata": {
        "id": "PUpYp-Nx6yGW"
      }
    }
  ]
}