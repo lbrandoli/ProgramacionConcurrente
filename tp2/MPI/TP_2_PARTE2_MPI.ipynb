{
  "nbformat": 4,
  "nbformat_minor": 0,
  "metadata": {
    "colab": {
      "provenance": [],
      "include_colab_link": true
    },
    "kernelspec": {
      "name": "python3",
      "display_name": "Python 3"
    },
    "language_info": {
      "name": "python"
    }
  },
  "cells": [
    {
      "cell_type": "markdown",
      "metadata": {
        "id": "view-in-github",
        "colab_type": "text"
      },
      "source": [
        "<a href=\"https://colab.research.google.com/github/lbrandoli/ProgramacionConcurrente/blob/main/TP_2_PARTE2_MPI.ipynb\" target=\"_parent\"><img src=\"https://colab.research.google.com/assets/colab-badge.svg\" alt=\"Open In Colab\"/></a>"
      ]
    },
    {
      "cell_type": "markdown",
      "source": [
        "## Ejercicio 1 - Hola Mundo con MPI"
      ],
      "metadata": {
        "id": "jbePBQUe6gRK"
      }
    },
    {
      "cell_type": "code",
      "execution_count": 4,
      "metadata": {
        "colab": {
          "base_uri": "https://localhost:8080/"
        },
        "id": "KjPvjHVqDz-8",
        "outputId": "ce0d47c8-c395-48a3-931b-0138d3ef88d6"
      },
      "outputs": [
        {
          "output_type": "stream",
          "name": "stdout",
          "text": [
            "Collecting mpi4py\n",
            "  Downloading mpi4py-3.1.5.tar.gz (2.5 MB)\n",
            "\u001b[2K     \u001b[90m━━━━━━━━━━━━━━━━━━━━━━━━━━━━━━━━━━━━━━━━\u001b[0m \u001b[32m2.5/2.5 MB\u001b[0m \u001b[31m27.2 MB/s\u001b[0m eta \u001b[36m0:00:00\u001b[0m\n",
            "\u001b[?25h  Installing build dependencies ... \u001b[?25l\u001b[?25hdone\n",
            "  Getting requirements to build wheel ... \u001b[?25l\u001b[?25hdone\n",
            "  Preparing metadata (pyproject.toml) ... \u001b[?25l\u001b[?25hdone\n",
            "Building wheels for collected packages: mpi4py\n",
            "  Building wheel for mpi4py (pyproject.toml) ... \u001b[?25l\u001b[?25hdone\n",
            "  Created wheel for mpi4py: filename=mpi4py-3.1.5-cp310-cp310-linux_x86_64.whl size=2746518 sha256=bc2bf623e585ab3ce63df6b217ff42d5f4d2883662bb3fe3eba91e22089625b8\n",
            "  Stored in directory: /root/.cache/pip/wheels/18/2b/7f/c852523089e9182b45fca50ff56f49a51eeb6284fd25a66713\n",
            "Successfully built mpi4py\n",
            "Installing collected packages: mpi4py\n",
            "Successfully installed mpi4py-3.1.5\n"
          ]
        }
      ],
      "source": [
        "! pip install mpi4py"
      ]
    },
    {
      "cell_type": "code",
      "source": [
        "%%writefile Ejercicio2.py\n",
        "from mpi4py import MPI\n",
        "import numpy as np\n",
        "import time\n",
        "\n",
        "# --------------------------------------------\n",
        "# Formulario\n",
        "Max_tiempo_sleep =   2#@param {type: \"slider\", min: 1, max: 10}\n",
        "Min_tiempo_sleep =   0#@param {type: \"slider\", min: 0, max: 10}\n",
        "# --------------------------------------------\n",
        "\n",
        "# --------------------------------------------\n",
        "# Constantes de comunicacion\n",
        "WORK_FLAG = 1\n",
        "END_WORK_FLAG = 2\n",
        "# --------------------------------------------\n",
        "\n",
        "def main():\n",
        "    comm = MPI.COMM_WORLD # Instanciamos el tipo de comunicador a utilizar.\n",
        "    id = comm.Get_rank()  # Obtenemos el id como atributo del proceso que se ejecuta.\n",
        "\n",
        "    # Utilizamos el 0 para definir al procesos Maestro, cualquier otro id sera un esclavo.\n",
        "    if (id == 0) :\n",
        "        init() # Llamamos funcion init para eventos que requeriremos inicialmente solo 1 vez.\n",
        "        numProcesses = comm.Get_size()  # Obtenemos el numero de procesos totales ejecutados.\n",
        "        numTasks = (numProcesses-1)*4 # Se setea el numero de tareas.\n",
        "        workTimes = generateTasks(numTasks) # Se generan las tareas, en este caso seran\n",
        "        print(\"El jefe crea {} horas de descanso de sus empleados:\".format(workTimes.size), flush=True)\n",
        "        print(workTimes, flush=True)\n",
        "        initWork(comm, workTimes, numProcesses)\n",
        "    else:\n",
        "        doWork(comm)\n",
        "\n",
        "def generateTasks(numTasks):\n",
        "    #TODO: Cambiar la semilla del random para que se generen efectivamente diferentes numeros.\n",
        "    np.random.seed(1000)\n",
        "    return np.random.randint(low=Min_tiempo_sleep, high=Max_tiempo_sleep, size=numTasks)\n",
        "\n",
        "def init():\n",
        "  print()\n",
        "  print(\"Version MPI4py utilizada: {}\".format(MPI.Get_version()), flush=True)\n",
        "  print()\n",
        "  print( \"------------------------------------\", flush=True)\n",
        "  print( \"Sistema de trabajo Suizo:\", flush=True)\n",
        "  print( \"------------------------------------\", flush=True)\n",
        "  print()\n",
        "\n",
        "def initWork(comm, workTimes, numProcesses):\n",
        "    totalWork = workTimes.size\n",
        "    workcount = 0\n",
        "    recvcount = 0\n",
        "\n",
        "    print(\"Jefe enviando las tareas iniciales:\", flush=True)\n",
        "    for id in range(1, numProcesses):\n",
        "        if workcount < totalWork:\n",
        "            work=workTimes[workcount]\n",
        "            comm.send(work, dest=id, tag=WORK_FLAG) # Envia mensaje de iniciar trabajo con el dato correspondiente del array.\n",
        "            workcount += 1\n",
        "            print(\"Jefe envia trabajo y {} hs de descanso al empleado {}.\".format(work, id), flush=True)\n",
        "    print( \"------------------------------------\", flush=True)\n",
        "\n",
        "    # Mientras haya trabajo, se recibe el resultado de los empleados y se sigue enviando MAS trabajo.\n",
        "    while (workcount < totalWork) :\n",
        "        stat = MPI.Status()\n",
        "        workTime = comm.recv(source=MPI.ANY_SOURCE, status=stat) # Recivimos resultados de los empleados.\n",
        "        recvcount += 1\n",
        "        workerId = stat.Get_source() # Obtenemos el identificador del empleado.\n",
        "        print(\"Jefe recibe trabajo completado {} del empleado {}.\".format(workTime, workerId), flush=True)\n",
        "        #send next work\n",
        "        work=workTimes[workcount]\n",
        "        comm.send(work, dest=workerId, tag=WORK_FLAG)\n",
        "        workcount += 1\n",
        "        print(\"Jefe envia nuevo trabajo y {} hs de descanso al empleado {}.\".format(work, workerId), flush=True)\n",
        "\n",
        "    while (recvcount < totalWork):\n",
        "        stat = MPI.Status()\n",
        "        workTime = comm.recv(source=MPI.ANY_SOURCE, status=stat)\n",
        "        recvcount += 1\n",
        "        workerId = stat.Get_source()\n",
        "        print(\"Jefe recibe trabajo completado {} del empleado {}.\".format(workTime, workerId), flush=True)\n",
        "\n",
        "    for id in range(1, numProcesses):\n",
        "        comm.send(0, dest=id, tag=END_WORK_FLAG)\n",
        "\n",
        "\n",
        "def doWork(comm):\n",
        "    while(True):\n",
        "        stat = MPI.Status() # Obtiene el estado actual del empleado.\n",
        "        waitTime = comm.recv(source=0, tag=MPI.ANY_TAG, status=stat) # Obtiene lo enviado por el Jefe.\n",
        "        print(\"Soy el empleado con id {}, toca descanzo por {} hs.\".format(comm.Get_rank(), waitTime), flush=True)\n",
        "\n",
        "        if (stat.Get_tag() == END_WORK_FLAG):\n",
        "            print(\"Marca tarjeta el empleado {}.\".format(comm.Get_rank()), flush=True)\n",
        "            return\n",
        "        time.sleep(waitTime)\n",
        "        comm.send(waitTime, dest=0)\n",
        "\n",
        "main()\n"
      ],
      "metadata": {
        "colab": {
          "base_uri": "https://localhost:8080/"
        },
        "id": "pkR4B6zGEhA-",
        "outputId": "53f11f23-5af4-4bd7-ac4e-152b6e4db1b2"
      },
      "execution_count": 2,
      "outputs": [
        {
          "output_type": "stream",
          "name": "stdout",
          "text": [
            "Writing Ejercicio2.py\n"
          ]
        }
      ]
    },
    {
      "cell_type": "code",
      "source": [
        "# --------------------------------------------\n",
        "#@title Parámetros de ejecución { vertical-output: true }\n",
        "NRO =   2#@param {type: \"number\"}\n",
        "# --------------------------------------------\n",
        "\n",
        "! mpirun --oversubscribe --allow-run-as-root -np $NRO python Ejercicio2.py\n"
      ],
      "metadata": {
        "colab": {
          "base_uri": "https://localhost:8080/"
        },
        "id": "nypiqG0EEqgK",
        "outputId": "99e3f7e3-cd0c-4d08-ed21-622959364051"
      },
      "execution_count": 76,
      "outputs": [
        {
          "output_type": "stream",
          "name": "stdout",
          "text": [
            "\n",
            "Version MPI4py utilizada: (3, 1)\n",
            "\n",
            "------------------------------------\n",
            "Sistema de trabajo Suizo:\n",
            "------------------------------------\n",
            "\n",
            "El jefe crea 4 horas de descanso de sus empleados:\n",
            "[1 1 1 0]\n",
            "Jefe enviando las tareas iniciales:\n",
            "Jefe envia trabajo y 1 hs de descanso al empleado 1.\n",
            "------------------------------------\n",
            "Soy el empleado con id 1, toca descanzo por 1 hs.\n",
            "Jefe recibe trabajo completado 1 del empleado 1.\n",
            "Soy el empleado con id 1, toca descanzo por 1 hs.\n",
            "Jefe envia nuevo trabajo y 1 hs de descanso al empleado 1.\n",
            "Jefe recibe trabajo completado 1 del empleado 1.\n",
            "Jefe envia nuevo trabajo y 1 hs de descanso al empleado 1.\n",
            "Soy el empleado con id 1, toca descanzo por 1 hs.\n",
            "Jefe recibe trabajo completado 1 del empleado 1.\n",
            "Jefe envia nuevo trabajo y 0 hs de descanso al empleado 1.\n",
            "Soy el empleado con id 1, toca descanzo por 0 hs.\n",
            "Jefe recibe trabajo completado 0 del empleado 1.\n",
            "Soy el empleado con id 1, toca descanzo por 0 hs.\n",
            "Marca tarjeta el empleado 1.\n"
          ]
        }
      ]
    },
    {
      "cell_type": "markdown",
      "source": [
        "Preguntas del ejecicio"
      ],
      "metadata": {
        "id": "1b_SMZl37Oyh"
      }
    },
    {
      "cell_type": "markdown",
      "source": [
        "a) ¿Que funcion realiza la instancia maestra?¿Que funcion realiza las instancias esclavas?"
      ],
      "metadata": {
        "id": "PvICSAVwGxLd"
      }
    },
    {
      "cell_type": "markdown",
      "source": [
        "La instancia maestra genera una lista de tareas y las distribuye entre los procesos esclavos. Cada proceso esclavo realiza su tarea y devuelve el resultado al proceso maestro."
      ],
      "metadata": {
        "id": "CNdegAIzHCLr"
      }
    },
    {
      "cell_type": "markdown",
      "source": [
        "b) ¿Cuantas de esas instancias ejecuta la funcion main(), initWork() y doWork()?"
      ],
      "metadata": {
        "id": "4zCcRTd9S1Nl"
      }
    },
    {
      "cell_type": "markdown",
      "source": [
        "La funcion main() se ejecuta en la instancia maestra, mientras que la funcion dowork() se ejecuta en las instancias esclavas. La funcion initWork() se llama desde la funcion main(), pero no se ejecuta en una instancia separada, sino que se llama desde la funcion main()."
      ],
      "metadata": {
        "id": "O2jyjFjqTZaG"
      }
    },
    {
      "cell_type": "markdown",
      "source": [
        "c)¿Como se diferencian los mensajes de trabajo o de finalizacion?"
      ],
      "metadata": {
        "id": "TFO1CxGBWlGd"
      }
    },
    {
      "cell_type": "markdown",
      "source": [
        "Se utilizan dos constantes de comunicacion para diferenciar los mensajes de trabajo, estan constantes son WORK_FLAG y END_WORK_FLAG.\n",
        "El proceso maestro envia mensajes de trabajo a los procesos esclavos utilizando la constante WORK_FLAG. El mensaje contiene el tiempo de espera correspondiente a la tarea asignada. Los procesos esclavos envian el resultado de su tarea al proceso maestro utilizando la misma constante WORK_FLAG.\n",
        "Por otro lado, el proceso maestro envia mensajes de finalizacion a los procesos esclavos utilizando la constante END_WORK_FLAG. Cuando un proceso esclavo recibe un mensaje con esta constante, sabe que debe finalizar su trabajo y terminar su ejecucion."
      ],
      "metadata": {
        "id": "XD2o9GF1XZdG"
      }
    },
    {
      "cell_type": "markdown",
      "source": [
        "d)¿Como implementaria la funcion BLAS axpy() con este patron?¿Seria eficiente?Tips:Pide solo el planteo, no la implementacion."
      ],
      "metadata": {
        "id": "bN8tkYB8ZNGS"
      }
    },
    {
      "cell_type": "markdown",
      "source": [
        "La funcion axpy de BLAS es una operacion vectorial que calcula el producto de un vector por un escalar y lo suma a otro vector, asi que si utilizamos el patron maestro-esclavo, se podria dividir el vector en subvectores y distribuirlos entre los procesos esclavos. Cada proceso esclavo calcularia el producto de su subvector por el escalar y lo sumaria al subvector correspondiente. Luego, los resultados parciales se enviarian al proceso maestro para que los ume y obtenga el resultado final."
      ],
      "metadata": {
        "id": "_p5_4R_0iKkf"
      }
    },
    {
      "cell_type": "markdown",
      "source": [
        "d)¿Que sucede cuando solo ejecuta con una sola instancia?"
      ],
      "metadata": {
        "id": "PNiyrSAdjeYe"
      }
    },
    {
      "cell_type": "markdown",
      "source": [
        "Cuando se ejecuta con una sola instancia el proceso maestro y el proceso esclavo se ejecutan en la misma instancia, en este caso, el proceso maestro generara una lista de tareas aleatorias y las asignara al mismo proceso que se esta ejecutando."
      ],
      "metadata": {
        "id": "z1WxWk_Tjryr"
      }
    },
    {
      "cell_type": "markdown",
      "source": [
        "# Ejercicio 2 - Contar palabras"
      ],
      "metadata": {
        "id": "aARG4T207eFx"
      }
    },
    {
      "cell_type": "code",
      "source": [
        "%%writefile mpi_tp4.py\n",
        "\n",
        "from mpi4py import MPI\n",
        "import numpy as np\n",
        "from IPython.display import display\n",
        "comm = MPI.COMM_WORLD\n",
        "size = comm.Get_size()\n",
        "rank = comm.Get_rank()\n",
        "\n",
        "count = 5000\n",
        "sendbuf = None\n",
        "\n",
        "def main():\n",
        "    if rank == 0:\n",
        "        sendbuf = np.random.randn(size, count)\n",
        "        display(\"Máximo de matriz calculado con metodo: \", sendbuf.max())\n",
        "        initWork(comm, sendbuf, size) #En esta funcion trabaja el proceso raiz\n",
        "    else:\n",
        "        doWork(comm)    #Aqui trabajan todos los procesos distintos al proceso raiz\n",
        "\n",
        "def initWork(comm, matrix, cantProcess):\n",
        "    rowCount = 1    #Los procesos que lanzaremos empezaran a calcular el maximo desde la fila 1 y no desde la fila 0\n",
        "    recvCount = 1   #La cantidad de procesos que esperamos tambien empieza en 1 ya que el proceso 0 no se espera\n",
        "    maxArray = []   #Aqui se almacenaran los valores maximos de cada fila\n",
        "\n",
        "    maxArray.append(max(matrix[0])) #El proceso 0 calcula el valor maximo de la fila 0\n",
        "\n",
        "    #En este for vamos lanzando los procesos y les asignamos cual es la fila en la que tienen que encontrar el maximo\n",
        "    #Empieza en el proceso 1 ya que el proceso 0 es el raiz\n",
        "    for id in range(1, cantProcess):\n",
        "        if rowCount < len(matrix):\n",
        "            comm.send(matrix[rowCount], dest = id) #Al proceso con id <id> se le asigna la fila <rowCount> para buscar su maximo\n",
        "            rowCount += 1\n",
        "\n",
        "    #En este while vamos a esperar a que todos los procesos devuelvan el valor maximo que calcularon de cada fila\n",
        "    while recvCount < cantProcess:\n",
        "        stat = MPI.Status()\n",
        "        maxOfRow = comm.recv(source=MPI.ANY_SOURCE, status=stat)    #En esta variable vamos a almacenar el valor que devuelve cada proceso al calcular el maximo de cada fila\n",
        "        maxArray.append(maxOfRow)\n",
        "        recvCount += 1\n",
        "\n",
        "    print(\"Maximo de matriz calculado con MPI: \", max(maxArray))\n",
        "\n",
        "def doWork(comm):\n",
        "    stat = MPI.Status()\n",
        "    row = comm.recv(source=0, status=stat) #Aqui recibimos la informacion que nos manda el proceso raiz\n",
        "    comm.send(max(row), dest = 0)   #Aqui enviamos al proceso raiz el valor maximo calculado en la fila\n",
        "\n",
        "main()"
      ],
      "metadata": {
        "colab": {
          "base_uri": "https://localhost:8080/"
        },
        "id": "yELPe3QapZRz",
        "outputId": "07a05839-6820-436a-8c87-b1ca46a17ac2"
      },
      "execution_count": 89,
      "outputs": [
        {
          "output_type": "stream",
          "name": "stdout",
          "text": [
            "Overwriting mpi_tp4.py\n"
          ]
        }
      ]
    },
    {
      "cell_type": "code",
      "source": [
        "# --------------------------------------------\n",
        "# Formulario\n",
        "NRO =   4#@param {type: \"slider\", min: 4, max: 10}\n",
        "# --------------------------------------------\n",
        "\n",
        "! mpirun --oversubscribe --allow-run-as-root -np $NRO python mpi_tp4.py"
      ],
      "metadata": {
        "colab": {
          "base_uri": "https://localhost:8080/"
        },
        "id": "E8wX3lG0peZA",
        "outputId": "ee1fd0bd-60fc-4e1a-e5ae-41a2eee50be2"
      },
      "execution_count": 90,
      "outputs": [
        {
          "output_type": "stream",
          "name": "stdout",
          "text": [
            "Máximo de matriz calculado con metodo:  4.449900798145721\n",
            "Maximo de matriz calculado con MPI:  4.449900798145721\n"
          ]
        }
      ]
    }
  ]
}