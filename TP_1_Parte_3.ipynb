{
  "nbformat": 4,
  "nbformat_minor": 0,
  "metadata": {
    "colab": {
      "provenance": [],
      "include_colab_link": true
    },
    "kernelspec": {
      "name": "python3",
      "display_name": "Python 3"
    },
    "language_info": {
      "name": "python"
    }
  },
  "cells": [
    {
      "cell_type": "markdown",
      "metadata": {
        "id": "view-in-github",
        "colab_type": "text"
      },
      "source": [
        "<a href=\"https://colab.research.google.com/github/lbrandoli/ProgramacionConcurrente/blob/main/TP_1_Parte_3.ipynb\" target=\"_parent\"><img src=\"https://colab.research.google.com/assets/colab-badge.svg\" alt=\"Open In Colab\"/></a>"
      ]
    },
    {
      "cell_type": "markdown",
      "source": [
        "# **C++**"
      ],
      "metadata": {
        "id": "HRKV-U-gvcKP"
      }
    },
    {
      "cell_type": "code",
      "execution_count": null,
      "metadata": {
        "colab": {
          "base_uri": "https://localhost:8080/"
        },
        "id": "MIfLGBQ0xbAM",
        "outputId": "7b24f990-1e1f-49c0-d4b9-2f62f82a7ad7"
      },
      "outputs": [
        {
          "output_type": "stream",
          "name": "stdout",
          "text": [
            "Writing main.cpp\n"
          ]
        }
      ],
      "source": [
        "%%writefile main.cpp\n",
        "#include <iostream>\n",
        "#include <thread>\n",
        "#include <vector>\n",
        "#include <string>\n",
        "#include <mutex>\n",
        "\n",
        "std::mutex mtx;\n",
        "\n",
        "// Est función la utilizmos para convertir el caracter en su valor numérico\n",
        "int charToNumber(char c)\n",
        "{\n",
        "    return c - 'A' + 1; // Le restamos A ya que representa el numero ascii de esa letra y luego le sumamos 1 para saber cual seria el numero correspondiente en el alfabeto\n",
        "}\n",
        "\n",
        "// Esta funcion la utilizamos para recorrer la parte del string que le corresponde a cada hilo\n",
        "void convertCharacters(const std::string& input, std::vector<int>& result, int start, int end)\n",
        "{\n",
        "    for (int i = start; i <= end; i++)\n",
        "    {\n",
        "        char c = input[i];\n",
        "        if (c >= 'a' && c <= 'z')\n",
        "        {\n",
        "            c = std::toupper(c);\n",
        "        }\n",
        "        result[i] = charToNumber(c);\n",
        "    }\n",
        "}\n",
        "\n",
        "int main(int argc, char *argv[])\n",
        "{\n",
        "    if (argc != 2)\n",
        "    {\n",
        "        std::cout << \"Uso: \" << argv[0] << \" <cadena_de_caracteres>\" << std::endl;\n",
        "        return 1;\n",
        "    }\n",
        "\n",
        "    std::string input(argv[1]);\n",
        "    int length = input.length();\n",
        "    std::vector<int> result(length);\n",
        "\n",
        "    int threadCount = 2; // Cantidad de hilos que vamos a crear\n",
        "    int charsPerThread = length / threadCount; // Cantidad de caracteres que va a convertir cada hilo\n",
        "    int extraChars = length % threadCount; // Si la cantidad de caracteres es par vale 0 y si es impar vale 1\n",
        "\n",
        "    //Creamos un vector de hilos de forma tal que el manejo de hilos sea mas facil\n",
        "    std::vector<std::thread> threads;\n",
        "\n",
        "    //Creamos los dos hilos\n",
        "    for (int i = 0; i < threadCount; i++)\n",
        "    {\n",
        "        // Si i es cero el punto de inicio es el primer caracter, si i es 1 el punto de inicio será la mitad de la cadena\n",
        "        int start = i * charsPerThread;\n",
        "\n",
        "        // Si i es 0 tiene que convertir hasta el caracter anterior que la mitad de la cadena y si i es 1 convierte hasta el ultimo sea par o impar la cadena\n",
        "        int end = (i != threadCount - 1) ? (start + charsPerThread - 1) : (start + charsPerThread + extraChars - 1);\n",
        "\n",
        "        // Utilizamos este metodo para crear un hilo y agregarlo al vector de hilos y ademas utilizamos una funcion lamda para el trabajo que necesitamos que haga cada hilo\n",
        "        threads.emplace_back\n",
        "        ([&, start, end]()\n",
        "          {\n",
        "              convertCharacters(input, result, start, end);\n",
        "          }\n",
        "        );\n",
        "    }\n",
        "\n",
        "    // Recorremos el vector de hilos y esperamos a ambos hilos\n",
        "    for (std::thread& thread : threads)\n",
        "    {\n",
        "        thread.join();\n",
        "    }\n",
        "\n",
        "    for (int i = 0; i < length; i++)\n",
        "    {\n",
        "        std::cout << result[i] << \" \";\n",
        "    }\n",
        "    std::cout << std::endl;\n",
        "\n",
        "    return 0;\n",
        "}\n"
      ]
    },
    {
      "cell_type": "markdown",
      "source": [
        "1- Se compila el codigo C++ y se genera un binario."
      ],
      "metadata": {
        "id": "xtjVW67ZcNii"
      }
    },
    {
      "cell_type": "code",
      "source": [
        "!g++ main.cpp -lpthread -o main.bin"
      ],
      "metadata": {
        "id": "ePS-4ylnch8o"
      },
      "execution_count": null,
      "outputs": []
    },
    {
      "cell_type": "markdown",
      "source": [
        "2- Ejecutamos el programa con la palabra \"ARBOLITO \" y enviamos la salida del programa al archivo \"main\""
      ],
      "metadata": {
        "id": "WhS6DyKqcxXM"
      }
    },
    {
      "cell_type": "code",
      "source": [
        "!nohup ./main.bin ARBOLITO 1> main 2> /dev/null &"
      ],
      "metadata": {
        "id": "qZzLhjKQdBkJ"
      },
      "execution_count": null,
      "outputs": []
    },
    {
      "cell_type": "markdown",
      "source": [
        "3-Vemos lo que hay en el archivo \"main\""
      ],
      "metadata": {
        "id": "rGC4RCOYdO8o"
      }
    },
    {
      "cell_type": "code",
      "source": [
        "!cat main"
      ],
      "metadata": {
        "colab": {
          "base_uri": "https://localhost:8080/"
        },
        "id": "gr9zGwsrdYEL",
        "outputId": "a1173e5b-da5e-489b-a054-5630c3f7835d"
      },
      "execution_count": null,
      "outputs": [
        {
          "output_type": "stream",
          "name": "stdout",
          "text": [
            "1 18 2 15 12 9 20 15 \n"
          ]
        }
      ]
    },
    {
      "cell_type": "markdown",
      "source": [
        "# **JAVA**"
      ],
      "metadata": {
        "id": "khwxQqGBAFjH"
      }
    },
    {
      "cell_type": "code",
      "source": [
        "%%writefile Main.java\n",
        "import java.util.*;\n",
        "import java.util.concurrent.*;\n",
        "\n",
        "\n",
        "class Main\n",
        "{\n",
        "  public static void main(String[] args)\n",
        "  {\n",
        "    int N = Integer.parseInt(args[0]);\n",
        "    ArrayBlockingQueue<Integer> colaBloq = new ArrayBlockingQueue<>(N);\n",
        "\n",
        "    System.out.println();\n",
        "    System.out.println(\"La cantidad de numeros ingresados es de: \"+N);\n",
        "\n",
        "    Thread productor = new Thread(new Producer(colaBloq, N));\n",
        "    Thread consumidor = new Thread(new Consumer(colaBloq, N));\n",
        "\n",
        "    productor.start();\n",
        "    consumidor.start();\n",
        "  }\n",
        "}\n",
        "\n",
        "\n",
        "class Producer implements Runnable\n",
        "{\n",
        "  private final BlockingQueue<Integer> cola;\n",
        "  private final int N;\n",
        "  public Producer(BlockingQueue<Integer> colaBloq, int N)\n",
        "  {\n",
        "    this.cola = colaBloq;\n",
        "    this.N = N;\n",
        "  }\n",
        "\n",
        "  @Override\n",
        "  public void run()\n",
        "  {\n",
        "    try\n",
        "    {\n",
        "      for (int i = 0; i < N; i++)\n",
        "      {\n",
        "        int valor = new Random().nextInt(100);\n",
        "        System.out.println(\"Producido: \" + valor);\n",
        "        cola.put(valor);\n",
        "      }\n",
        "      cola.put(-1);\n",
        "    }\n",
        "    catch (InterruptedException e)\n",
        "    {\n",
        "      Thread.currentThread().interrupt();\n",
        "    }\n",
        "  }\n",
        "}\n",
        "\n",
        "\n",
        "class Consumer implements Runnable\n",
        "{\n",
        "  private final BlockingQueue<Integer> cola;\n",
        "  private final int N;\n",
        "  private final Map<Integer,Integer> frecuencia=new HashMap<>();\n",
        "  public Consumer (BlockingQueue<Integer>cola, int N)\n",
        "  {\n",
        "    this.cola=cola;\n",
        "    this.N=N;\n",
        "  }\n",
        "  @Override\n",
        "  public void run()\n",
        "  {\n",
        "    try\n",
        "      {\n",
        "        int sum=0;\n",
        "        int min=Integer.MAX_VALUE;\n",
        "        int max=Integer.MIN_VALUE;\n",
        "\n",
        "        for(int i=0;i<N;i++)\n",
        "        {\n",
        "          int valor=cola.take();\n",
        "          if(valor == -1)\n",
        "            break;\n",
        "          sum+=valor;\n",
        "          min=Math.min(min,valor);\n",
        "          max=Math.max(max,valor);\n",
        "          frecuencia.put(valor,frecuencia.getOrDefault(valor,0)+1);\n",
        "        }\n",
        "\n",
        "        float promedio=(float) sum/N;\n",
        "\n",
        "        List<Integer>masFrecuenteValores=new ArrayList<>();\n",
        "        int maxFrecuente=Collections.max(frecuencia.values());\n",
        "        for(Map.Entry<Integer,Integer> entry:frecuencia.entrySet())\n",
        "        {\n",
        "          if(entry.getValue()==maxFrecuente)\n",
        "          {\n",
        "            masFrecuenteValores.add(entry.getKey());\n",
        "          }\n",
        "        }\n",
        "\n",
        "        System.out.println();\n",
        "        System.out.println(\"Promedio: \"+ promedio);\n",
        "        System.out.println(\"Min: \" + min);\n",
        "        System.out.println(\"Max: \" + max);\n",
        "        System.out.println(\"Sum: \" + sum);\n",
        "        System.out.println(\"Mas frecuente valores: \" + masFrecuenteValores);\n",
        "      }\n",
        "    catch(InterruptedException e)\n",
        "      {\n",
        "        Thread.currentThread().interrupt();\n",
        "      }\n",
        "  }\n",
        "}"
      ],
      "metadata": {
        "colab": {
          "base_uri": "https://localhost:8080/"
        },
        "id": "_ROs50OKAaae",
        "outputId": "ec11c58c-7ad6-4b4c-c501-098a22fd2e8a"
      },
      "execution_count": null,
      "outputs": [
        {
          "output_type": "stream",
          "name": "stdout",
          "text": [
            "Overwriting Main.java\n"
          ]
        }
      ]
    },
    {
      "cell_type": "markdown",
      "source": [
        "1-Compilamos el archivo Main.java"
      ],
      "metadata": {
        "id": "Ww8YGzHBBgb5"
      }
    },
    {
      "cell_type": "code",
      "source": [
        "!javac Main.java"
      ],
      "metadata": {
        "id": "uK1Ct3OsBnOO"
      },
      "execution_count": null,
      "outputs": []
    },
    {
      "cell_type": "markdown",
      "source": [
        "2-Ejecutamos el archivo Main.java"
      ],
      "metadata": {
        "id": "mbtkYOKJBu30"
      }
    },
    {
      "cell_type": "code",
      "source": [
        "!java Main 20"
      ],
      "metadata": {
        "colab": {
          "base_uri": "https://localhost:8080/"
        },
        "id": "VKwfXpL5B2sY",
        "outputId": "5715847e-a2ef-47f4-be65-bc380557627f"
      },
      "execution_count": null,
      "outputs": [
        {
          "output_type": "stream",
          "name": "stdout",
          "text": [
            "\n",
            "La cantidad de numeros ingresados es de: 20\n",
            "Producido: 69\n",
            "Producido: 30\n",
            "Producido: 17\n",
            "Producido: 83\n",
            "Producido: 42\n",
            "Producido: 79\n",
            "Producido: 22\n",
            "Producido: 24\n",
            "Producido: 91\n",
            "Producido: 7\n",
            "Producido: 43\n",
            "Producido: 95\n",
            "Producido: 1\n",
            "Producido: 76\n",
            "Producido: 14\n",
            "Producido: 85\n",
            "Producido: 74\n",
            "Producido: 60\n",
            "Producido: 56\n",
            "Producido: 93\n",
            "\n",
            "Promedio: 53.05\n",
            "Min: 1\n",
            "Max: 95\n",
            "Sum: 1061\n",
            "Mas frecuente valores: [1, 69, 7, 42, 74, 43, 76, 14, 79, 17, 83, 85, 22, 24, 56, 91, 60, 93, 30, 95]\n"
          ]
        }
      ]
    },
    {
      "cell_type": "markdown",
      "source": [
        "# **PYTHON**"
      ],
      "metadata": {
        "id": "OXXV-6bC5039"
      }
    },
    {
      "cell_type": "markdown",
      "source": [
        "Comunicar dos procesos emparentados (Padre – Hijo) a través de una tubería (Pipe).\n",
        "\n",
        "El programa principal (Padre) deberá proveer una suerte de prompt donde el usuario podrá ingresar\n",
        "palabras (close para finalizar la ejecución). Cada palabra será enviada al hijo. Al finalizar la ejecución\n",
        "el hijo deberá retornar cierta información estadística al padre, quien la imprimirá en pantalla, luego\n",
        "de estos ambos procesos finalizarán.\n",
        "\n",
        "Sobre la información estadística:\n",
        "\n",
        "* Cantidad de caracteres totales\n",
        "* Cantidad de letras\n",
        "* Cantidad de dígitos\n",
        "* La palabra de mayor longitud\n",
        "* La palabra de menor longitud"
      ],
      "metadata": {
        "id": "0NPHJamu6DjN"
      }
    },
    {
      "cell_type": "markdown",
      "source": [
        "Puedes lograr esto utilizando la biblioteca multiprocessing en Python para crear dos procesos emparentados (padre e hijo) y una tubería (pipe) para la comunicación entre ellos. Aquí tienes un ejemplo de cómo hacerlo:"
      ],
      "metadata": {
        "id": "BdtpgwFb57Sg"
      }
    },
    {
      "cell_type": "code",
      "source": [
        "import os\n",
        "import multiprocessing\n",
        "\n",
        "# Función que realiza el cálculo de estadísticas\n",
        "def calculate_statistics(words):\n",
        "    \"\"\"\n",
        "    Calcula estadísticas sobre una lista de palabras.\n",
        "\n",
        "    :param words: Una lista de palabras para analizar.\n",
        "    :type words: list\n",
        "    :return: Una tupla con las estadísticas calculadas:\n",
        "             (total_caracteres, total_letras, total_digitos, palabra_mas_larga, palabra_mas_corta)\n",
        "    :rtype: tuple\n",
        "    \"\"\"\n",
        "    if not words:\n",
        "        return 0, 0, 0, '', ''\n",
        "\n",
        "    total_characters = sum(len(word) for word in words)\n",
        "    total_letters = sum(c.isalpha() for word in words for c in word)\n",
        "    total_digits = sum(c.isdigit() for word in words for c in word)\n",
        "    longest_word = max(words, key=len)\n",
        "    shortest_word = min(words, key=len)\n",
        "\n",
        "    return total_characters, total_letters, total_digits, longest_word, shortest_word\n",
        "\n",
        "\n",
        "# Función del proceso hijo\n",
        "def child_process(pipe):\n",
        "    \"\"\"\n",
        "    Función que se ejecuta en el proceso hijo.\n",
        "\n",
        "    :param pipe: La tubería de comunicación con el proceso padre.\n",
        "    :type pipe: multiprocessing.Pipe\n",
        "    \"\"\"\n",
        "    words = []\n",
        "    while True:\n",
        "        word = pipe.recv()\n",
        "        if word == \"close\":\n",
        "            break\n",
        "        words.append(word)\n",
        "\n",
        "    statistics = calculate_statistics(words)\n",
        "    pipe.send(statistics)\n",
        "    pipe.close()\n",
        "\n",
        "if __name__ == \"__main__\":\n",
        "    parent_pipe, child_pipe = multiprocessing.Pipe()\n",
        "\n",
        "    child_process = multiprocessing.Process(target=child_process, args=(child_pipe,))\n",
        "    child_process.start()\n",
        "\n",
        "    words = []\n",
        "    while True:\n",
        "        word = input(\"Ingrese una palabra (o 'close' para finalizar): \")\n",
        "        if word == \"close\":\n",
        "            break\n",
        "        parent_pipe.send(word)\n",
        "\n",
        "    parent_pipe.send(\"close\")\n",
        "    child_process.join()\n",
        "\n",
        "    statistics = parent_pipe.recv()\n",
        "    parent_pipe.close()\n",
        "\n",
        "    total_characters, total_letters, total_digits, longest_word, shortest_word = statistics\n",
        "\n",
        "    print(f\"Total de caracteres: {total_characters}\")\n",
        "    print(f\"Total de letras: {total_letters}\")\n",
        "    print(f\"Total de dígitos: {total_digits}\")\n",
        "    print(f\"Palabra más larga: {longest_word}\")\n",
        "    print(f\"Palabra más corta: {shortest_word}\")\n"
      ],
      "metadata": {
        "colab": {
          "base_uri": "https://localhost:8080/"
        },
        "id": "gPIlB_x6YPpA",
        "outputId": "4a1a3a27-2987-4f12-81a3-7c4207e69916"
      },
      "execution_count": null,
      "outputs": [
        {
          "output_type": "stream",
          "name": "stdout",
          "text": [
            "Ingrese una palabra (o 'close' para finalizar): pepe\n",
            "Ingrese una palabra (o 'close' para finalizar): miguel\n",
            "Ingrese una palabra (o 'close' para finalizar): gustabo05\n",
            "Ingrese una palabra (o 'close' para finalizar): OPPENHEIMER\n",
            "Ingrese una palabra (o 'close' para finalizar): close\n",
            "Total de caracteres: 30\n",
            "Total de letras: 28\n",
            "Total de dígitos: 2\n",
            "Palabra más larga: OPPENHEIMER\n",
            "Palabra más corta: pepe\n"
          ]
        }
      ]
    },
    {
      "cell_type": "markdown",
      "source": [
        "Este programa crea dos procesos emparentados, el proceso principal (padre) y el proceso hijo, y utiliza una tubería para enviar palabras desde el proceso padre al proceso hijo. Cuando el usuario ingresa \"close\", ambos procesos finalizan y el proceso padre imprime las estadísticas calculadas por el proceso hijo."
      ],
      "metadata": {
        "id": "xHdIK8V55762"
      }
    }
  ]
}