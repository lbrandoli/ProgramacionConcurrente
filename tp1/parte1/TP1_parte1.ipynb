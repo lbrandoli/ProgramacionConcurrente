{
 "cells": [
  {
   "cell_type": "markdown",
   "metadata": {},
   "source": [
    "## C"
   ]
  },
  {
   "cell_type": "code",
   "execution_count": null,
   "metadata": {},
   "outputs": [],
   "source": []
  },
  {
   "cell_type": "markdown",
   "metadata": {},
   "source": [
    "## Java"
   ]
  },
  {
   "cell_type": "markdown",
   "metadata": {},
   "source": []
  },
  {
   "cell_type": "markdown",
   "metadata": {},
   "source": [
    "## Python"
   ]
  },
  {
   "cell_type": "code",
   "execution_count": null,
   "metadata": {},
   "outputs": [],
   "source": [
    "%%writefile tp1_procesos.py\n",
    "import os\n",
    "import time\n",
    "\n",
    "PROCESO_A = \"A\"\n",
    "PROCESO_B = \"B\"\n",
    "PROCESO_C = \"C\"\n",
    "PROCESO_D = \"D\"\n",
    "PROCESO_E = \"E\"\n",
    "PROCESO_F = \"F\"\n",
    "PROCESO_G = \"G\"\n",
    "PROCESO_H = \"H\"\n",
    "TIME_SLEEP = 200\n",
    "PID_NULL = 0\n",
    "\n",
    "def processMessage(node):\n",
    "    message = \"soy el proceso {name}. PID: {pid}. PPID {ppid}\\n\"\n",
    "    print(message.format(name=node,pid=os.getpid(),ppid=os.getppid()))\n",
    "\n",
    "def spawnProcesses(node):\n",
    "    pid=PID_NULL\n",
    "    name,children = node\n",
    "    processMessage(name)\n",
    "    for item in children:\n",
    "        pid=os.fork()\n",
    "        if pid < PID_NULL:\n",
    "            print(\"Error al crear nuevo proceso\")\n",
    "            os._exit(1)\n",
    "        if not pid:\n",
    "            spawnProcesses(item)\n",
    "            time.sleep(TIME_SLEEP)\n",
    "            os._exit(0)\n",
    "    for item in children:\n",
    "        os.wait()\n",
    "\n",
    "def main():\n",
    "    tree = (PROCESO_A, [(PROCESO_B,[(PROCESO_D,[]), (PROCESO_E,[(PROCESO_G,[]), (PROCESO_H,[])])]),(PROCESO_C,[(PROCESO_F,[])])])\n",
    "    spawnProcesses(tree)\n",
    "    os._exit(0)\n",
    "\n",
    "if __name__ == \"__main__\":\n",
    "    main()"
   ]
  },
  {
   "cell_type": "code",
   "execution_count": null,
   "metadata": {},
   "outputs": [],
   "source": [
    "!touch resultado_py && chmod 700 resultado_py"
   ]
  },
  {
   "cell_type": "code",
   "execution_count": null,
   "metadata": {},
   "outputs": [],
   "source": [
    "!nohup python3 -u tp1.py 1>resultado_py 2>/dev/null &"
   ]
  },
  {
   "cell_type": "code",
   "execution_count": null,
   "metadata": {},
   "outputs": [],
   "source": [
    "!cat resultado_py"
   ]
  },
  {
   "cell_type": "code",
   "execution_count": null,
   "metadata": {},
   "outputs": [],
   "source": [
    "!ps -ef | grep tp1_procesos.py"
   ]
  },
  {
   "cell_type": "code",
   "execution_count": null,
   "metadata": {},
   "outputs": [],
   "source": [
    "!pstree -pc $(pgrep -f tp1_procesos.py -P 1)"
   ]
  }
 ],
 "metadata": {
  "kernelspec": {
   "display_name": "Python 3",
   "language": "python",
   "name": "python3"
  },
  "language_info": {
   "codemirror_mode": {
    "name": "ipython",
    "version": 3
   },
   "file_extension": ".py",
   "mimetype": "text/x-python",
   "name": "python",
   "nbconvert_exporter": "python",
   "pygments_lexer": "ipython3",
   "version": "3.11.5"
  },
  "orig_nbformat": 4
 },
 "nbformat": 4,
 "nbformat_minor": 2
}
