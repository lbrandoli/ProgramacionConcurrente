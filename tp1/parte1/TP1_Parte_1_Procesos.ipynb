{
  "nbformat": 4,
  "nbformat_minor": 0,
  "metadata": {
    "colab": {
      "provenance": [],
      "authorship_tag": "ABX9TyPSdbsN5kwxDTgw1M3+9q6O",
      "include_colab_link": true
    },
    "kernelspec": {
      "name": "python3",
      "display_name": "Python 3"
    },
    "language_info": {
      "name": "python"
    }
  },
  "cells": [
    {
      "cell_type": "markdown",
      "metadata": {
        "id": "view-in-github",
        "colab_type": "text"
      },
      "source": [
        "<a href=\"https://colab.research.google.com/github/lbrandoli/ProgramacionConcurrente/blob/main/TP1_Parte_1_Procesos.ipynb\" target=\"_parent\"><img src=\"https://colab.research.google.com/assets/colab-badge.svg\" alt=\"Open In Colab\"/></a>"
      ]
    },
    {
      "cell_type": "markdown",
      "source": [
        "## C"
      ],
      "metadata": {
        "id": "0Lw44WgKfSk4"
      }
    },
    {
      "cell_type": "code",
      "source": [],
      "metadata": {
        "id": "932JUV1lfVQA"
      },
      "execution_count": null,
      "outputs": []
    },
    {
      "cell_type": "markdown",
      "source": [
        "## Java"
      ],
      "metadata": {
        "id": "tljZcwKPe_9M"
      }
    },
    {
      "cell_type": "code",
      "source": [],
      "metadata": {
        "id": "O2A6bQrpp0j7"
      },
      "execution_count": null,
      "outputs": []
    },
    {
      "cell_type": "markdown",
      "source": [
        "## Python"
      ],
      "metadata": {
        "id": "CJ1OBskRfYt8"
      }
    },
    {
      "cell_type": "code",
      "source": [
        "%%writefile tp1_procesos.py\n",
        "import os\n",
        "import time\n",
        "\n",
        "PROCESO_A = \"A\"\n",
        "PROCESO_B = \"B\"\n",
        "PROCESO_C = \"C\"\n",
        "PROCESO_D = \"D\"\n",
        "PROCESO_E = \"E\"\n",
        "PROCESO_F = \"F\"\n",
        "PROCESO_G = \"G\"\n",
        "PROCESO_H = \"H\"\n",
        "TIME_SLEEP = 200\n",
        "PID_NULL = 0\n",
        "\n",
        "def processMessage(node):\n",
        "    message = \"Hola mi nombre es {name}. PID: {pid}. PPID {ppid}\\n\"\n",
        "    print(message.format(name=node,pid=os.getpid(),ppid=os.getppid()))\n",
        "\n",
        "def spawnProcesses(node):\n",
        "    pid=PID_NULL\n",
        "    name,children = node\n",
        "    processMessage(name)\n",
        "    for item in children:\n",
        "        pid=os.fork()\n",
        "        if pid < PID_NULL:\n",
        "            print(\"Error al crear nuevo proceso\")\n",
        "            os._exit(1)\n",
        "        if not pid:\n",
        "            spawnProcesses(item)\n",
        "            time.sleep(TIME_SLEEP)\n",
        "            os._exit(0)\n",
        "    for item in children:\n",
        "        os.wait()\n",
        "\n",
        "def main():\n",
        "    tree = (PROCESO_A, [(PROCESO_B,[(PROCESO_D,[]), (PROCESO_E,[(PROCESO_G,[]), (PROCESO_H,[])])]),(PROCESO_C,[(PROCESO_F,[])])])\n",
        "    spawnProcesses(tree)\n",
        "    os._exit(0)\n",
        "\n",
        "main()"
      ],
      "metadata": {
        "id": "3aglHU1tc2N7",
        "colab": {
          "base_uri": "https://localhost:8080/"
        },
        "outputId": "6a52da81-0fce-4d47-933c-fb477b7d20b6"
      },
      "execution_count": null,
      "outputs": [
        {
          "output_type": "stream",
          "name": "stdout",
          "text": [
            "Writing tp1.py\n"
          ]
        }
      ]
    },
    {
      "cell_type": "code",
      "source": [
        "!touch resultado_py && chmod 700 resultado_py"
      ],
      "metadata": {
        "id": "UOlD8oWldZRI"
      },
      "execution_count": null,
      "outputs": []
    },
    {
      "cell_type": "code",
      "source": [
        "!nohup python3 -u tp1.py 1>resultado_py 2>/dev/null &"
      ],
      "metadata": {
        "id": "eX519IFudG3l"
      },
      "execution_count": null,
      "outputs": []
    },
    {
      "cell_type": "code",
      "source": [
        "!cat resultado_py"
      ],
      "metadata": {
        "id": "lH4mpVrKdehH",
        "colab": {
          "base_uri": "https://localhost:8080/"
        },
        "outputId": "b65885f0-0d1d-40aa-c58e-f1a8b4df7436"
      },
      "execution_count": null,
      "outputs": [
        {
          "output_type": "stream",
          "name": "stdout",
          "text": [
            "Hola mi nombre es A. PID: 1597. PPID 1\n",
            "\n",
            "Hola mi nombre es B. PID: 1598. PPID 1597\n",
            "\n",
            "Hola mi nombre es C. PID: 1599. PPID 1597\n",
            "\n",
            "Hola mi nombre es D. PID: 1600. PPID 1598\n",
            "\n",
            "Hola mi nombre es E. PID: 1601. PPID 1598\n",
            "\n",
            "Hola mi nombre es F. PID: 1602. PPID 1599\n",
            "\n",
            "Hola mi nombre es H. PID: 1604. PPID 1601\n",
            "\n",
            "Hola mi nombre es G. PID: 1603. PPID 1601\n",
            "\n"
          ]
        }
      ]
    },
    {
      "cell_type": "code",
      "source": [
        "!ps -ef | grep tp1_procesos.py"
      ],
      "metadata": {
        "id": "AJH31lQFdhwm",
        "colab": {
          "base_uri": "https://localhost:8080/"
        },
        "outputId": "8c675575-5504-47c2-a204-d5f03510dcdc"
      },
      "execution_count": null,
      "outputs": [
        {
          "output_type": "stream",
          "name": "stdout",
          "text": [
            "root        1597       1  0 21:07 ?        00:00:00 python3 -u tp1.py\n",
            "root        1598    1597  0 21:07 ?        00:00:00 python3 -u tp1.py\n",
            "root        1599    1597  0 21:07 ?        00:00:00 python3 -u tp1.py\n",
            "root        1600    1598  0 21:07 ?        00:00:00 python3 -u tp1.py\n",
            "root        1601    1598  0 21:07 ?        00:00:00 python3 -u tp1.py\n",
            "root        1602    1599  0 21:07 ?        00:00:00 python3 -u tp1.py\n",
            "root        1603    1601  0 21:07 ?        00:00:00 python3 -u tp1.py\n",
            "root        1604    1601  0 21:07 ?        00:00:00 python3 -u tp1.py\n",
            "root        1820    1386  0 21:07 ?        00:00:00 /bin/bash -c ps -ef | grep tp1.py\n",
            "root        1822    1820  0 21:07 ?        00:00:00 grep tp1.py\n"
          ]
        }
      ]
    },
    {
      "cell_type": "code",
      "source": [
        "!pstree -pc $(pgrep -f tp1_procesos.py -P 1)"
      ],
      "metadata": {
        "id": "mepFx6zTdjoB",
        "colab": {
          "base_uri": "https://localhost:8080/"
        },
        "outputId": "9a8eab5c-4abf-4349-8ea3-523ac1129a68"
      },
      "execution_count": null,
      "outputs": [
        {
          "output_type": "stream",
          "name": "stdout",
          "text": [
            "python3(1597)─┬─python3(1598)─┬─python3(1600)\n",
            "              │               └─python3(1601)─┬─python3(1603)\n",
            "              │                               └─python3(1604)\n",
            "              └─python3(1599)───python3(1602)\n"
          ]
        }
      ]
    }
  ]
}