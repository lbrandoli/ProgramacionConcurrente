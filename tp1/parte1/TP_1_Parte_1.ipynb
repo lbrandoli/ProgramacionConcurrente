{
  "nbformat": 4,
  "nbformat_minor": 0,
  "metadata": {
    "colab": {
      "provenance": [],
      "include_colab_link": true
    },
    "kernelspec": {
      "name": "python3",
      "display_name": "Python 3"
    },
    "language_info": {
      "name": "python"
    }
  },
  "cells": [
    {
      "cell_type": "markdown",
      "metadata": {
        "id": "view-in-github",
        "colab_type": "text"
      },
      "source": [
        "<a href=\"https://colab.research.google.com/github/lbrandoli/ProgramacionConcurrente/blob/main/TP_1_Parte_1.ipynb\" target=\"_parent\"><img src=\"https://colab.research.google.com/assets/colab-badge.svg\" alt=\"Open In Colab\"/></a>"
      ]
    },
    {
      "cell_type": "markdown",
      "source": [
        "# **C++**"
      ],
      "metadata": {
        "id": "fKJr9C_yeWRt"
      }
    },
    {
      "cell_type": "markdown",
      "source": [
        "Codigo del arbol de procesos."
      ],
      "metadata": {
        "id": "cAmD9MOIeqSG"
      }
    },
    {
      "cell_type": "code",
      "source": [
        "%%writefile arbol.cpp\n",
        "#include <iostream>\n",
        "#include <unistd.h>\n",
        "#include <sys/wait.h>\n",
        "\n",
        "using namespace std;\n",
        "\n",
        "void mostrarProceso(char proceso)\n",
        "{\n",
        "   cout<<\"Proceso \"<<proceso<<\" --> \"<<\"PID:\"<<getpid()<<\"  \"<<\"PPID:\"<<getppid()<<endl;\n",
        "}\n",
        "\n",
        "int main(int argc, char*argv[])\n",
        "{\n",
        "  pid_t pidA,pidB,pidC,pidD,pidE,pidF,pidG,pidH;\n",
        "  pidA=getpid();\n",
        "  mostrarProceso('A');\n",
        "  pidB=fork();\n",
        "  if(pidB == 0)\n",
        "  {\n",
        "    pidB=getpid();\n",
        "    mostrarProceso('B');\n",
        "    pidD=fork();\n",
        "    if(pidD == 0)\n",
        "    {\n",
        "      pidD=getpid();\n",
        "      mostrarProceso('D');\n",
        "      sleep(30);\n",
        "      exit(0);\n",
        "    }\n",
        "    pidE=fork();\n",
        "    if(pidE == 0)\n",
        "    {\n",
        "      pidE=getpid();\n",
        "      mostrarProceso('E');\n",
        "      pidG=fork();\n",
        "      if(pidG == 0)\n",
        "      {\n",
        "        pidG=getpid();\n",
        "        mostrarProceso('G');\n",
        "        sleep(30);\n",
        "        exit(0);\n",
        "      }\n",
        "       pidH=fork();\n",
        "      if(pidH == 0)\n",
        "      {\n",
        "        pidH=getpid();\n",
        "        mostrarProceso('H');\n",
        "        sleep(30);\n",
        "        exit(0);\n",
        "      }\n",
        "      sleep(30);\n",
        "      wait(NULL);\n",
        "      wait(NULL);\n",
        "      exit(0);\n",
        "    }\n",
        "    sleep(30);\n",
        "    wait(NULL);\n",
        "    wait(NULL);\n",
        "    exit(0);\n",
        "  }\n",
        "  pidC=fork();\n",
        "  if(pidC == 0)\n",
        "  {\n",
        "    pidC=getpid();\n",
        "    mostrarProceso('C');\n",
        "    pidF=fork();\n",
        "    if(pidF == 0)\n",
        "    {\n",
        "      pidF=getpid();\n",
        "      mostrarProceso('F');\n",
        "      sleep(30);\n",
        "      exit(0);\n",
        "    }\n",
        "    sleep(30);\n",
        "    wait(NULL);\n",
        "    exit(0);\n",
        "  }\n",
        "  sleep(30);\n",
        "  wait(NULL);\n",
        "  wait(NULL);\n",
        "  return 0;\n",
        "}"
      ],
      "metadata": {
        "colab": {
          "base_uri": "https://localhost:8080/"
        },
        "id": "804WHGmQexw8",
        "outputId": "105d3a60-0ea9-494c-d845-e1b70e81916a"
      },
      "execution_count": null,
      "outputs": [
        {
          "output_type": "stream",
          "name": "stdout",
          "text": [
            "Overwriting arbol.cpp\n"
          ]
        }
      ]
    },
    {
      "cell_type": "markdown",
      "source": [
        "2-Verificar que existe el archivo arbol.cpp"
      ],
      "metadata": {
        "id": "2yjVj7lUfNQH"
      }
    },
    {
      "cell_type": "code",
      "source": [
        "!ls -l"
      ],
      "metadata": {
        "colab": {
          "base_uri": "https://localhost:8080/"
        },
        "id": "P_FvP083fUry",
        "outputId": "42f17bda-f88b-4c64-95bc-7387ff0dda9d"
      },
      "execution_count": null,
      "outputs": [
        {
          "output_type": "stream",
          "name": "stdout",
          "text": [
            "total 32\n",
            "-rwxr-xr-x 1 root root 16944 Sep 10 23:48 arbol.bin\n",
            "-rw-r--r-- 1 root root  1365 Sep 10 23:59 arbol.cpp\n",
            "-rw-r--r-- 1 root root   269 Sep 10 23:52 resultados\n",
            "drwxr-xr-x 1 root root  4096 Sep  7 13:24 sample_data\n"
          ]
        }
      ]
    },
    {
      "cell_type": "markdown",
      "source": [
        "3-Compilar el archivo arbol.cpp y generar el binario."
      ],
      "metadata": {
        "id": "ofrfwx0vfejX"
      }
    },
    {
      "cell_type": "code",
      "source": [
        "%%shell\n",
        "g++ arbol.cpp -o arbol.bin"
      ],
      "metadata": {
        "colab": {
          "base_uri": "https://localhost:8080/"
        },
        "id": "uAKrYAZEfoz0",
        "outputId": "398106fb-5e9b-4c32-896f-0030b64f96f8"
      },
      "execution_count": null,
      "outputs": [
        {
          "output_type": "execute_result",
          "data": {
            "text/plain": []
          },
          "metadata": {},
          "execution_count": 16
        }
      ]
    },
    {
      "cell_type": "markdown",
      "source": [
        "4-Ejecutar el programa y mostrar la salida en el archivo \"resultados\"."
      ],
      "metadata": {
        "id": "wLfPn8PfgDkG"
      }
    },
    {
      "cell_type": "code",
      "source": [
        "%%shell\n",
        "nohup ./arbol.bin 1> resultados 2> /dev/null &"
      ],
      "metadata": {
        "colab": {
          "base_uri": "https://localhost:8080/"
        },
        "id": "xH5w0vEDgoI_",
        "outputId": "31b48e84-edf5-4e83-eb92-0a72a464db94"
      },
      "execution_count": null,
      "outputs": [
        {
          "output_type": "execute_result",
          "data": {
            "text/plain": []
          },
          "metadata": {},
          "execution_count": 17
        }
      ]
    },
    {
      "cell_type": "markdown",
      "source": [
        "5-Observar los procesos generados por este programa."
      ],
      "metadata": {
        "id": "7OreRG73gzv-"
      }
    },
    {
      "cell_type": "code",
      "source": [
        "%%shell\n",
        "ps -ef | grep arbol.bin"
      ],
      "metadata": {
        "colab": {
          "base_uri": "https://localhost:8080/"
        },
        "id": "kAuGY5jXhAAn",
        "outputId": "56de625f-ef1d-451d-8cf6-c419c6ca61d1"
      },
      "execution_count": null,
      "outputs": [
        {
          "output_type": "stream",
          "name": "stdout",
          "text": [
            "root        4502       1  0 23:59 ?        00:00:00 ./arbol.bin\n",
            "root        4503    4502  0 23:59 ?        00:00:00 ./arbol.bin\n",
            "root        4504    4502  0 23:59 ?        00:00:00 ./arbol.bin\n",
            "root        4505    4504  0 23:59 ?        00:00:00 ./arbol.bin\n",
            "root        4506    4503  0 23:59 ?        00:00:00 ./arbol.bin\n",
            "root        4507    4503  0 23:59 ?        00:00:00 ./arbol.bin\n",
            "root        4508    4507  0 23:59 ?        00:00:00 ./arbol.bin\n",
            "root        4509    4507  0 23:59 ?        00:00:00 ./arbol.bin\n",
            "root        4522     875  0 23:59 ?        00:00:00 /bin/bash -c ps -ef | grep arbol.bin \n",
            "root        4524    4522  0 23:59 ?        00:00:00 grep arbol.bin\n"
          ]
        },
        {
          "output_type": "execute_result",
          "data": {
            "text/plain": []
          },
          "metadata": {},
          "execution_count": 18
        }
      ]
    },
    {
      "cell_type": "markdown",
      "source": [
        "6-Observar el arbol de procesos."
      ],
      "metadata": {
        "id": "bSGAR234hIcH"
      }
    },
    {
      "cell_type": "code",
      "source": [
        "%%shell\n",
        "pstree -pc 4502"
      ],
      "metadata": {
        "colab": {
          "base_uri": "https://localhost:8080/"
        },
        "id": "1Hn--JHDh7w2",
        "outputId": "022b44fd-a502-4e8f-9118-7299b0a8a6d5"
      },
      "execution_count": null,
      "outputs": [
        {
          "output_type": "stream",
          "name": "stdout",
          "text": [
            "arbol.bin(4502)─┬─arbol.bin(4503)─┬─arbol.bin(4506)\n",
            "                │                 └─arbol.bin(4507)─┬─arbol.bin(4508)\n",
            "                │                                   └─arbol.bin(4509)\n",
            "                └─arbol.bin(4504)───arbol.bin(4505)\n"
          ]
        },
        {
          "output_type": "execute_result",
          "data": {
            "text/plain": []
          },
          "metadata": {},
          "execution_count": 19
        }
      ]
    },
    {
      "cell_type": "markdown",
      "source": [
        "7-Observar la salida en el archivo \"resultados\"."
      ],
      "metadata": {
        "id": "zRHUljA4iGas"
      }
    },
    {
      "cell_type": "code",
      "source": [
        "!cat resultados"
      ],
      "metadata": {
        "colab": {
          "base_uri": "https://localhost:8080/"
        },
        "id": "EEeSHc12iNd5",
        "outputId": "33e31bac-d71b-4c58-aa4f-ca30cd513808"
      },
      "execution_count": null,
      "outputs": [
        {
          "output_type": "stream",
          "name": "stdout",
          "text": [
            "Proceso A --> PID:4502  PPID:1\n",
            "Proceso C --> PID:4504  PPID:4502\n",
            "Proceso F --> PID:4505  PPID:4504\n",
            "Proceso B --> PID:4503  PPID:4502\n",
            "Proceso E --> PID:4507  PPID:4503\n",
            "Proceso H --> PID:4509  PPID:4507\n",
            "Proceso D --> PID:4506  PPID:4503\n",
            "Proceso G --> PID:4508  PPID:4507\n"
          ]
        }
      ]
    },
    {
      "cell_type": "markdown",
      "source": [
        "# **Python**"
      ],
      "metadata": {
        "id": "Z9KpwiSjjE-w"
      }
    },
    {
      "cell_type": "code",
      "source": [
        "%%writefile tp1_procesos.py\n",
        "import os\n",
        "import time\n",
        "\n",
        "PROCESO_A = \"A\"\n",
        "PROCESO_B = \"B\"\n",
        "PROCESO_C = \"C\"\n",
        "PROCESO_D = \"D\"\n",
        "PROCESO_E = \"E\"\n",
        "PROCESO_F = \"F\"\n",
        "PROCESO_G = \"G\"\n",
        "PROCESO_H = \"H\"\n",
        "TIME_SLEEP = 200\n",
        "PID_NULL = 0\n",
        "\n",
        "def processMessage(node):\n",
        "    message = \"Hola mi nombre es {name}. PID: {pid}. PPID {ppid}\\n\"\n",
        "    print(message.format(name=node,pid=os.getpid(),ppid=os.getppid()))\n",
        "\n",
        "def spawnProcesses(node):\n",
        "    pid=PID_NULL\n",
        "    name,children = node\n",
        "    processMessage(name)\n",
        "    for item in children:\n",
        "        pid=os.fork()\n",
        "        if pid < PID_NULL:\n",
        "            print(\"Error al crear nuevo proceso\")\n",
        "            os._exit(1)\n",
        "        if not pid:\n",
        "            spawnProcesses(item)\n",
        "            time.sleep(TIME_SLEEP)\n",
        "            os._exit(0)\n",
        "    for item in children:\n",
        "        os.wait()\n",
        "\n",
        "def main():\n",
        "    tree = (PROCESO_A, [(PROCESO_B,[(PROCESO_D,[]), (PROCESO_E,[(PROCESO_G,[]), (PROCESO_H,[])])]),(PROCESO_C,[(PROCESO_F,[])])])\n",
        "    spawnProcesses(tree)\n",
        "    os._exit(0)\n",
        "\n",
        "main()"
      ],
      "metadata": {
        "colab": {
          "base_uri": "https://localhost:8080/"
        },
        "id": "CQrM3SYQoEeU",
        "outputId": "10181e42-5ea0-4a2c-a513-cf3f0dbc38b0"
      },
      "execution_count": null,
      "outputs": [
        {
          "output_type": "stream",
          "name": "stdout",
          "text": [
            "Overwriting tp1_procesos.py\n"
          ]
        }
      ]
    },
    {
      "cell_type": "code",
      "source": [
        "!touch resultado_py && chmod 700 resultado_py"
      ],
      "metadata": {
        "id": "VcxJ94adoNsr"
      },
      "execution_count": null,
      "outputs": []
    },
    {
      "cell_type": "code",
      "source": [
        "!nohup python3 -u tp1.py 1>resultado_py 2>/dev/null &"
      ],
      "metadata": {
        "id": "N8bhVcBPoPAD"
      },
      "execution_count": null,
      "outputs": []
    },
    {
      "cell_type": "code",
      "source": [
        "!cat resultado_py"
      ],
      "metadata": {
        "id": "5XSU7bfxoP2H"
      },
      "execution_count": null,
      "outputs": []
    },
    {
      "cell_type": "code",
      "source": [
        "!ps -ef | grep tp1_procesos.py"
      ],
      "metadata": {
        "id": "u85QC0PYoph1"
      },
      "execution_count": null,
      "outputs": []
    },
    {
      "cell_type": "code",
      "source": [
        "!pstree -pc $(pgrep -f tp1_procesos.py -P 1)"
      ],
      "metadata": {
        "id": "ljHIqb05oRR6"
      },
      "execution_count": null,
      "outputs": []
    },
    {
      "cell_type": "markdown",
      "source": [
        "#**Java**"
      ],
      "metadata": {
        "id": "ndnFv90hwJsR"
      }
    },
    {
      "cell_type": "code",
      "execution_count": null,
      "metadata": {
        "colab": {
          "base_uri": "https://localhost:8080/"
        },
        "id": "Mdkol678IG5S",
        "outputId": "7b54cc49-67ee-4329-db03-e1c968c94673"
      },
      "outputs": [
        {
          "output_type": "stream",
          "name": "stdout",
          "text": [
            "Overwriting ArbolDeProcesos.java\n"
          ]
        }
      ],
      "source": [
        "%%writefile ArbolDeProcesos.java\n",
        "import java.io.IOException;\n",
        "\n",
        "public class ArbolDeProcesos {\n",
        "    static int cantHijosA = 2;\n",
        "    static int cantHijosB = 2;\n",
        "    static int cantHijosC = 1;\n",
        "    static int cantHijosE = 2;\n",
        "\n",
        "    public static void main(String[] args)\n",
        "    {\n",
        "        int cantHijos = 0;\n",
        "        char nombreNodo = 'A';\n",
        "        Process procesos[] = null;\n",
        "        String procesoActual = \"A\";\n",
        "        if (args.length != 0)\n",
        "            procesoActual = args[0];\n",
        "\n",
        "        ProcessHandle obtenerPID = ProcessHandle.current();\n",
        "\n",
        "        System.out.println(\"soy el proceso \" + procesoActual + \" de PID: \" + obtenerPID.pid() + \" y PPID: \"\n",
        "                + obtenerPID.parent().get().pid());\n",
        "\n",
        "        if (procesoActual.equals(\"A\"))\n",
        "        {\n",
        "            cantHijos = cantHijosA;\n",
        "            procesos = new Process[cantHijosA];\n",
        "        }\n",
        "        else if (procesoActual.equals(\"B\"))\n",
        "        {\n",
        "            cantHijos = cantHijosB;\n",
        "            procesos = new Process[cantHijosB];\n",
        "            nombreNodo += cantHijosA;\n",
        "        }\n",
        "        else if (procesoActual.equals(\"C\"))\n",
        "        {\n",
        "            cantHijos = cantHijosC;\n",
        "            procesos = new Process[cantHijosC];\n",
        "            nombreNodo = (char) ('C' + cantHijosB);\n",
        "        }\n",
        "        else if (procesoActual.equals(\"E\"))\n",
        "        {\n",
        "            cantHijos = cantHijosE;\n",
        "            procesos = new Process[cantHijosE];\n",
        "            nombreNodo = (char) ('E' + cantHijosC);\n",
        "        }\n",
        "        else\n",
        "        {\n",
        "            try\n",
        "            {\n",
        "                Thread.sleep(10000);\n",
        "            }\n",
        "            catch (InterruptedException e)\n",
        "            {\n",
        "                e.printStackTrace();\n",
        "            }\n",
        "            return;\n",
        "        }\n",
        "\n",
        "        for (int i = 1; i <= cantHijos; i++)\n",
        "        {\n",
        "            ProcessBuilder proceso = new ProcessBuilder(\"java\", \"ArbolDeProcesos.java\",\n",
        "                    Character.toString(nombreNodo + i));\n",
        "            proceso.inheritIO();\n",
        "            try\n",
        "            {\n",
        "                procesos[i - 1] = proceso.start();\n",
        "            }\n",
        "            catch (IOException e)\n",
        "            {\n",
        "                e.printStackTrace();\n",
        "            }\n",
        "        }\n",
        "        for (int i = 0; i < cantHijos; i++)\n",
        "        {\n",
        "            try\n",
        "            {\n",
        "                procesos[i].waitFor();\n",
        "            }\n",
        "             catch (InterruptedException e)\n",
        "            {\n",
        "                e.printStackTrace();\n",
        "            }\n",
        "        }\n",
        "    }\n",
        "}\n"
      ]
    },
    {
      "cell_type": "code",
      "source": [
        "!java ArbolDeProcesos.java"
      ],
      "metadata": {
        "id": "UgILIoHOspts"
      },
      "execution_count": null,
      "outputs": []
    },
    {
      "cell_type": "code",
      "source": [
        "!nohup java ArbolDeProcesos.java 1>salida 2>/dev/null &"
      ],
      "metadata": {
        "id": "CdY7kc1TrR1K"
      },
      "execution_count": null,
      "outputs": []
    },
    {
      "cell_type": "code",
      "source": [
        "!ps -ef | grep ArbolDeProcesos.java"
      ],
      "metadata": {
        "id": "4KzUM5NvtoFk"
      },
      "execution_count": null,
      "outputs": []
    },
    {
      "cell_type": "code",
      "source": [
        "!pstree -pT 7960"
      ],
      "metadata": {
        "colab": {
          "base_uri": "https://localhost:8080/"
        },
        "id": "khO2hGyzv6aY",
        "outputId": "5ab08671-fdcc-484f-bcb7-ee88768cb86c"
      },
      "execution_count": null,
      "outputs": [
        {
          "output_type": "stream",
          "name": "stdout",
          "text": [
            "java(7960)─┬─java(7982)─┬─java(8039)\n",
            "           │            └─java(8048)─┬─java(8112)\n",
            "           │                         └─java(8115)\n",
            "           └─java(7984)───java(8037)\n"
          ]
        }
      ]
    }
  ]
}